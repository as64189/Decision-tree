{
 "cells": [
  {
   "cell_type": "code",
   "execution_count": 44,
   "metadata": {},
   "outputs": [],
   "source": [
    "import pandas as pd"
   ]
  },
  {
   "cell_type": "code",
   "execution_count": 45,
   "metadata": {},
   "outputs": [],
   "source": [
    "#reading data\n",
    "data = pd.read_csv(r\"C:\\Users\\GU44DR\\student.csv\", sep=';')"
   ]
  },
  {
   "cell_type": "code",
   "execution_count": 46,
   "metadata": {},
   "outputs": [
    {
     "data": {
      "text/html": [
       "<div>\n",
       "<style scoped>\n",
       "    .dataframe tbody tr th:only-of-type {\n",
       "        vertical-align: middle;\n",
       "    }\n",
       "\n",
       "    .dataframe tbody tr th {\n",
       "        vertical-align: top;\n",
       "    }\n",
       "\n",
       "    .dataframe thead th {\n",
       "        text-align: right;\n",
       "    }\n",
       "</style>\n",
       "<table border=\"1\" class=\"dataframe\">\n",
       "  <thead>\n",
       "    <tr style=\"text-align: right;\">\n",
       "      <th></th>\n",
       "      <th>school</th>\n",
       "      <th>sex</th>\n",
       "      <th>age</th>\n",
       "      <th>address</th>\n",
       "      <th>famsize</th>\n",
       "      <th>Pstatus</th>\n",
       "      <th>Medu</th>\n",
       "      <th>Fedu</th>\n",
       "      <th>Mjob</th>\n",
       "      <th>Fjob</th>\n",
       "      <th>...</th>\n",
       "      <th>famrel</th>\n",
       "      <th>freetime</th>\n",
       "      <th>goout</th>\n",
       "      <th>Dalc</th>\n",
       "      <th>Walc</th>\n",
       "      <th>health</th>\n",
       "      <th>absences</th>\n",
       "      <th>G1</th>\n",
       "      <th>G2</th>\n",
       "      <th>G3</th>\n",
       "    </tr>\n",
       "  </thead>\n",
       "  <tbody>\n",
       "    <tr>\n",
       "      <th>0</th>\n",
       "      <td>GP</td>\n",
       "      <td>F</td>\n",
       "      <td>18</td>\n",
       "      <td>U</td>\n",
       "      <td>GT3</td>\n",
       "      <td>A</td>\n",
       "      <td>4</td>\n",
       "      <td>4</td>\n",
       "      <td>at_home</td>\n",
       "      <td>teacher</td>\n",
       "      <td>...</td>\n",
       "      <td>4</td>\n",
       "      <td>3</td>\n",
       "      <td>4</td>\n",
       "      <td>1</td>\n",
       "      <td>1</td>\n",
       "      <td>3</td>\n",
       "      <td>4</td>\n",
       "      <td>0</td>\n",
       "      <td>11</td>\n",
       "      <td>11</td>\n",
       "    </tr>\n",
       "    <tr>\n",
       "      <th>1</th>\n",
       "      <td>GP</td>\n",
       "      <td>F</td>\n",
       "      <td>17</td>\n",
       "      <td>U</td>\n",
       "      <td>GT3</td>\n",
       "      <td>T</td>\n",
       "      <td>1</td>\n",
       "      <td>1</td>\n",
       "      <td>at_home</td>\n",
       "      <td>other</td>\n",
       "      <td>...</td>\n",
       "      <td>5</td>\n",
       "      <td>3</td>\n",
       "      <td>3</td>\n",
       "      <td>1</td>\n",
       "      <td>1</td>\n",
       "      <td>3</td>\n",
       "      <td>2</td>\n",
       "      <td>9</td>\n",
       "      <td>11</td>\n",
       "      <td>11</td>\n",
       "    </tr>\n",
       "    <tr>\n",
       "      <th>2</th>\n",
       "      <td>GP</td>\n",
       "      <td>F</td>\n",
       "      <td>15</td>\n",
       "      <td>U</td>\n",
       "      <td>LE3</td>\n",
       "      <td>T</td>\n",
       "      <td>1</td>\n",
       "      <td>1</td>\n",
       "      <td>at_home</td>\n",
       "      <td>other</td>\n",
       "      <td>...</td>\n",
       "      <td>4</td>\n",
       "      <td>3</td>\n",
       "      <td>2</td>\n",
       "      <td>2</td>\n",
       "      <td>3</td>\n",
       "      <td>3</td>\n",
       "      <td>6</td>\n",
       "      <td>12</td>\n",
       "      <td>13</td>\n",
       "      <td>12</td>\n",
       "    </tr>\n",
       "    <tr>\n",
       "      <th>3</th>\n",
       "      <td>GP</td>\n",
       "      <td>F</td>\n",
       "      <td>15</td>\n",
       "      <td>U</td>\n",
       "      <td>GT3</td>\n",
       "      <td>T</td>\n",
       "      <td>4</td>\n",
       "      <td>2</td>\n",
       "      <td>health</td>\n",
       "      <td>services</td>\n",
       "      <td>...</td>\n",
       "      <td>3</td>\n",
       "      <td>2</td>\n",
       "      <td>2</td>\n",
       "      <td>1</td>\n",
       "      <td>1</td>\n",
       "      <td>5</td>\n",
       "      <td>0</td>\n",
       "      <td>14</td>\n",
       "      <td>14</td>\n",
       "      <td>14</td>\n",
       "    </tr>\n",
       "    <tr>\n",
       "      <th>4</th>\n",
       "      <td>GP</td>\n",
       "      <td>F</td>\n",
       "      <td>16</td>\n",
       "      <td>U</td>\n",
       "      <td>GT3</td>\n",
       "      <td>T</td>\n",
       "      <td>3</td>\n",
       "      <td>3</td>\n",
       "      <td>other</td>\n",
       "      <td>other</td>\n",
       "      <td>...</td>\n",
       "      <td>4</td>\n",
       "      <td>3</td>\n",
       "      <td>2</td>\n",
       "      <td>1</td>\n",
       "      <td>2</td>\n",
       "      <td>5</td>\n",
       "      <td>0</td>\n",
       "      <td>11</td>\n",
       "      <td>13</td>\n",
       "      <td>13</td>\n",
       "    </tr>\n",
       "  </tbody>\n",
       "</table>\n",
       "<p>5 rows × 33 columns</p>\n",
       "</div>"
      ],
      "text/plain": [
       "  school sex  age address famsize Pstatus  Medu  Fedu     Mjob      Fjob  ...  \\\n",
       "0     GP   F   18       U     GT3       A     4     4  at_home   teacher  ...   \n",
       "1     GP   F   17       U     GT3       T     1     1  at_home     other  ...   \n",
       "2     GP   F   15       U     LE3       T     1     1  at_home     other  ...   \n",
       "3     GP   F   15       U     GT3       T     4     2   health  services  ...   \n",
       "4     GP   F   16       U     GT3       T     3     3    other     other  ...   \n",
       "\n",
       "  famrel freetime  goout  Dalc  Walc health absences  G1  G2  G3  \n",
       "0      4        3      4     1     1      3        4   0  11  11  \n",
       "1      5        3      3     1     1      3        2   9  11  11  \n",
       "2      4        3      2     2     3      3        6  12  13  12  \n",
       "3      3        2      2     1     1      5        0  14  14  14  \n",
       "4      4        3      2     1     2      5        0  11  13  13  \n",
       "\n",
       "[5 rows x 33 columns]"
      ]
     },
     "execution_count": 46,
     "metadata": {},
     "output_type": "execute_result"
    }
   ],
   "source": [
    "data.head()"
   ]
  },
  {
   "cell_type": "code",
   "execution_count": 47,
   "metadata": {},
   "outputs": [
    {
     "data": {
      "text/plain": [
       "Index(['school', 'sex', 'age', 'address', 'famsize', 'Pstatus', 'Medu', 'Fedu',\n",
       "       'Mjob', 'Fjob', 'reason', 'guardian', 'traveltime', 'studytime',\n",
       "       'failures', 'schoolsup', 'famsup', 'paid', 'activities', 'nursery',\n",
       "       'higher', 'internet', 'romantic', 'famrel', 'freetime', 'goout', 'Dalc',\n",
       "       'Walc', 'health', 'absences', 'G1', 'G2', 'G3'],\n",
       "      dtype='object')"
      ]
     },
     "execution_count": 47,
     "metadata": {},
     "output_type": "execute_result"
    }
   ],
   "source": [
    "data.columns"
   ]
  },
  {
   "cell_type": "code",
   "execution_count": 48,
   "metadata": {},
   "outputs": [
    {
     "data": {
      "text/plain": [
       "0"
      ]
     },
     "execution_count": 48,
     "metadata": {},
     "output_type": "execute_result"
    }
   ],
   "source": [
    "missings = data.isnull().sum().sum()\n",
    "missings"
   ]
  },
  {
   "cell_type": "code",
   "execution_count": 49,
   "metadata": {},
   "outputs": [
    {
     "data": {
      "text/plain": [
       "False"
      ]
     },
     "execution_count": 49,
     "metadata": {},
     "output_type": "execute_result"
    }
   ],
   "source": [
    "# Any missing values?\n",
    "data.isnull().values.any()"
   ]
  },
  {
   "cell_type": "code",
   "execution_count": 50,
   "metadata": {},
   "outputs": [],
   "source": [
    "#creating a binary target variable\n",
    "data['alcohol_week'] = data['Dalc'].apply(lambda x: 1 if x >=2 else 0)\n",
    "data['alcohol_weekend'] = data['Walc'].apply(lambda x: 1 if x >=2 else 0)"
   ]
  },
  {
   "cell_type": "code",
   "execution_count": 51,
   "metadata": {},
   "outputs": [],
   "source": [
    "from sklearn.linear_model import LogisticRegression\n",
    "from sklearn.model_selection import train_test_split\n",
    "from sklearn.metrics import classification_report, confusion_matrix\n",
    "import numpy as np\n",
    "from sklearn import tree"
   ]
  },
  {
   "cell_type": "code",
   "execution_count": 52,
   "metadata": {},
   "outputs": [
    {
     "data": {
      "text/html": [
       "<div>\n",
       "<style scoped>\n",
       "    .dataframe tbody tr th:only-of-type {\n",
       "        vertical-align: middle;\n",
       "    }\n",
       "\n",
       "    .dataframe tbody tr th {\n",
       "        vertical-align: top;\n",
       "    }\n",
       "\n",
       "    .dataframe thead th {\n",
       "        text-align: right;\n",
       "    }\n",
       "</style>\n",
       "<table border=\"1\" class=\"dataframe\">\n",
       "  <thead>\n",
       "    <tr style=\"text-align: right;\">\n",
       "      <th></th>\n",
       "      <th>school</th>\n",
       "      <th>sex</th>\n",
       "      <th>age</th>\n",
       "      <th>address</th>\n",
       "      <th>famsize</th>\n",
       "      <th>Pstatus</th>\n",
       "      <th>Medu</th>\n",
       "      <th>Fedu</th>\n",
       "      <th>Mjob</th>\n",
       "      <th>Fjob</th>\n",
       "      <th>...</th>\n",
       "      <th>goout</th>\n",
       "      <th>Dalc</th>\n",
       "      <th>Walc</th>\n",
       "      <th>health</th>\n",
       "      <th>absences</th>\n",
       "      <th>G1</th>\n",
       "      <th>G2</th>\n",
       "      <th>G3</th>\n",
       "      <th>alcohol_week</th>\n",
       "      <th>alcohol_weekend</th>\n",
       "    </tr>\n",
       "  </thead>\n",
       "  <tbody>\n",
       "    <tr>\n",
       "      <th>0</th>\n",
       "      <td>GP</td>\n",
       "      <td>F</td>\n",
       "      <td>18</td>\n",
       "      <td>U</td>\n",
       "      <td>GT3</td>\n",
       "      <td>A</td>\n",
       "      <td>4</td>\n",
       "      <td>4</td>\n",
       "      <td>at_home</td>\n",
       "      <td>teacher</td>\n",
       "      <td>...</td>\n",
       "      <td>4</td>\n",
       "      <td>1</td>\n",
       "      <td>1</td>\n",
       "      <td>3</td>\n",
       "      <td>4</td>\n",
       "      <td>0</td>\n",
       "      <td>11</td>\n",
       "      <td>11</td>\n",
       "      <td>0</td>\n",
       "      <td>0</td>\n",
       "    </tr>\n",
       "    <tr>\n",
       "      <th>1</th>\n",
       "      <td>GP</td>\n",
       "      <td>F</td>\n",
       "      <td>17</td>\n",
       "      <td>U</td>\n",
       "      <td>GT3</td>\n",
       "      <td>T</td>\n",
       "      <td>1</td>\n",
       "      <td>1</td>\n",
       "      <td>at_home</td>\n",
       "      <td>other</td>\n",
       "      <td>...</td>\n",
       "      <td>3</td>\n",
       "      <td>1</td>\n",
       "      <td>1</td>\n",
       "      <td>3</td>\n",
       "      <td>2</td>\n",
       "      <td>9</td>\n",
       "      <td>11</td>\n",
       "      <td>11</td>\n",
       "      <td>0</td>\n",
       "      <td>0</td>\n",
       "    </tr>\n",
       "    <tr>\n",
       "      <th>2</th>\n",
       "      <td>GP</td>\n",
       "      <td>F</td>\n",
       "      <td>15</td>\n",
       "      <td>U</td>\n",
       "      <td>LE3</td>\n",
       "      <td>T</td>\n",
       "      <td>1</td>\n",
       "      <td>1</td>\n",
       "      <td>at_home</td>\n",
       "      <td>other</td>\n",
       "      <td>...</td>\n",
       "      <td>2</td>\n",
       "      <td>2</td>\n",
       "      <td>3</td>\n",
       "      <td>3</td>\n",
       "      <td>6</td>\n",
       "      <td>12</td>\n",
       "      <td>13</td>\n",
       "      <td>12</td>\n",
       "      <td>1</td>\n",
       "      <td>1</td>\n",
       "    </tr>\n",
       "    <tr>\n",
       "      <th>3</th>\n",
       "      <td>GP</td>\n",
       "      <td>F</td>\n",
       "      <td>15</td>\n",
       "      <td>U</td>\n",
       "      <td>GT3</td>\n",
       "      <td>T</td>\n",
       "      <td>4</td>\n",
       "      <td>2</td>\n",
       "      <td>health</td>\n",
       "      <td>services</td>\n",
       "      <td>...</td>\n",
       "      <td>2</td>\n",
       "      <td>1</td>\n",
       "      <td>1</td>\n",
       "      <td>5</td>\n",
       "      <td>0</td>\n",
       "      <td>14</td>\n",
       "      <td>14</td>\n",
       "      <td>14</td>\n",
       "      <td>0</td>\n",
       "      <td>0</td>\n",
       "    </tr>\n",
       "    <tr>\n",
       "      <th>4</th>\n",
       "      <td>GP</td>\n",
       "      <td>F</td>\n",
       "      <td>16</td>\n",
       "      <td>U</td>\n",
       "      <td>GT3</td>\n",
       "      <td>T</td>\n",
       "      <td>3</td>\n",
       "      <td>3</td>\n",
       "      <td>other</td>\n",
       "      <td>other</td>\n",
       "      <td>...</td>\n",
       "      <td>2</td>\n",
       "      <td>1</td>\n",
       "      <td>2</td>\n",
       "      <td>5</td>\n",
       "      <td>0</td>\n",
       "      <td>11</td>\n",
       "      <td>13</td>\n",
       "      <td>13</td>\n",
       "      <td>0</td>\n",
       "      <td>1</td>\n",
       "    </tr>\n",
       "  </tbody>\n",
       "</table>\n",
       "<p>5 rows × 35 columns</p>\n",
       "</div>"
      ],
      "text/plain": [
       "  school sex  age address famsize Pstatus  Medu  Fedu     Mjob      Fjob  ...  \\\n",
       "0     GP   F   18       U     GT3       A     4     4  at_home   teacher  ...   \n",
       "1     GP   F   17       U     GT3       T     1     1  at_home     other  ...   \n",
       "2     GP   F   15       U     LE3       T     1     1  at_home     other  ...   \n",
       "3     GP   F   15       U     GT3       T     4     2   health  services  ...   \n",
       "4     GP   F   16       U     GT3       T     3     3    other     other  ...   \n",
       "\n",
       "  goout Dalc  Walc  health  absences  G1  G2  G3 alcohol_week alcohol_weekend  \n",
       "0     4    1     1       3         4   0  11  11            0               0  \n",
       "1     3    1     1       3         2   9  11  11            0               0  \n",
       "2     2    2     3       3         6  12  13  12            1               1  \n",
       "3     2    1     1       5         0  14  14  14            0               0  \n",
       "4     2    1     2       5         0  11  13  13            0               1  \n",
       "\n",
       "[5 rows x 35 columns]"
      ]
     },
     "execution_count": 52,
     "metadata": {},
     "output_type": "execute_result"
    }
   ],
   "source": [
    "data.head()"
   ]
  },
  {
   "cell_type": "code",
   "execution_count": 53,
   "metadata": {},
   "outputs": [
    {
     "data": {
      "text/plain": [
       "array(['yes', 'no'], dtype=object)"
      ]
     },
     "execution_count": 53,
     "metadata": {},
     "output_type": "execute_result"
    }
   ],
   "source": [
    "data['schoolsup'].unique()"
   ]
  },
  {
   "cell_type": "code",
   "execution_count": 54,
   "metadata": {},
   "outputs": [
    {
     "data": {
      "text/plain": [
       "array(['teacher', 'other', 'services', 'health', 'at_home'], dtype=object)"
      ]
     },
     "execution_count": 54,
     "metadata": {},
     "output_type": "execute_result"
    }
   ],
   "source": [
    "data['Mjob'].unique()\n",
    "data['Fjob'].unique()"
   ]
  },
  {
   "cell_type": "code",
   "execution_count": null,
   "metadata": {},
   "outputs": [],
   "source": [
    "# from sklearn.preprocessing import LabelEncoder\n",
    "# le = LabelEncoder()\n",
    "# data.Sex = le.fit_transform(data.Sex)"
   ]
  },
  {
   "cell_type": "code",
   "execution_count": 55,
   "metadata": {},
   "outputs": [],
   "source": [
    "data['school2'] = data['school'].apply(lambda x: 1 if x =='GP' else 0)\n",
    "data['sex2'] = data['sex'].apply(lambda x: 1 if x =='F' else 0)\n",
    "data['address2'] = data['address'].apply(lambda x: 1 if x =='U' else 0)\n",
    "data['famsize2'] = data['famsize'].apply(lambda x: 1 if x =='LE3' else 0)\n",
    "data['Pstatus2'] = data['Pstatus'].apply(lambda x: 1 if x =='T' else 0)\n",
    "data['schoolsup2'] = data['schoolsup'].apply(lambda x: 1 if x =='yes' else 0)\n",
    "data['famsup2'] = data['famsup'].apply(lambda x: 1 if x =='yes' else 0)\n",
    "data['paid2'] = data['paid'].apply(lambda x: 1 if x =='yes' else 0)\n",
    "data['activities2'] = data['activities'].apply(lambda x: 1 if x =='yes' else 0)\n",
    "data['nursery2'] = data['nursery'].apply(lambda x: 1 if x =='yes' else 0)\n",
    "data['higher2'] = data['higher'].apply(lambda x: 1 if x =='yes' else 0)\n",
    "data['internet2'] = data['internet'].apply(lambda x: 1 if x =='yes' else 0)\n",
    "data['romantic2'] = data['romantic'].apply(lambda x: 1 if x =='yes' else 0)\n",
    "  "
   ]
  },
  {
   "cell_type": "code",
   "execution_count": 56,
   "metadata": {},
   "outputs": [
    {
     "data": {
      "text/plain": [
       "array(['at_home', 'health', 'other', 'services', 'teacher'], dtype=object)"
      ]
     },
     "execution_count": 56,
     "metadata": {},
     "output_type": "execute_result"
    }
   ],
   "source": [
    "data['Mjob'].unique()"
   ]
  },
  {
   "cell_type": "code",
   "execution_count": 57,
   "metadata": {},
   "outputs": [],
   "source": [
    "#Categorization of the Domicile variable\n",
    "# Defining all the conditions inside a function\n",
    "def condition(x):\n",
    "    if x==\"at_home\":\n",
    "        return 0\n",
    "    elif x==\"health\":\n",
    "        return 1\n",
    "    elif x==\"services\":\n",
    "        return 2\n",
    "    elif x==\"teacher\":\n",
    "        return 3\n",
    "    else:\n",
    "        return 4\n",
    " \n",
    "# Applying the conditions\n",
    "data['Mjob2'] = data['Mjob'].apply(condition)"
   ]
  },
  {
   "cell_type": "code",
   "execution_count": 58,
   "metadata": {},
   "outputs": [
    {
     "data": {
      "text/plain": [
       "array(['teacher', 'other', 'services', 'health', 'at_home'], dtype=object)"
      ]
     },
     "execution_count": 58,
     "metadata": {},
     "output_type": "execute_result"
    }
   ],
   "source": [
    "data['Fjob'].unique()"
   ]
  },
  {
   "cell_type": "code",
   "execution_count": 59,
   "metadata": {},
   "outputs": [],
   "source": [
    "#Categorization of the Domicile variable\n",
    "# Defining all the conditions inside a function\n",
    "def condition(x):\n",
    "    if x==\"at_home\":\n",
    "        return 0\n",
    "    elif x==\"health\":\n",
    "        return 1\n",
    "    elif x==\"services\":\n",
    "        return 2\n",
    "    elif x==\"teacher\":\n",
    "        return 3\n",
    "    else:\n",
    "        return 4\n",
    " \n",
    "# Applying the conditions\n",
    "data['Fjob2'] = data['Fjob'].apply(condition)"
   ]
  },
  {
   "cell_type": "code",
   "execution_count": 60,
   "metadata": {},
   "outputs": [
    {
     "data": {
      "text/plain": [
       "array(['course', 'other', 'home', 'reputation'], dtype=object)"
      ]
     },
     "execution_count": 60,
     "metadata": {},
     "output_type": "execute_result"
    }
   ],
   "source": [
    "data['reason'].unique()"
   ]
  },
  {
   "cell_type": "code",
   "execution_count": 61,
   "metadata": {},
   "outputs": [],
   "source": [
    "#Categorization of the Domicile variable\n",
    "# Defining all the conditions inside a function\n",
    "def condition(x):\n",
    "    if x==\"home\":\n",
    "        return 0\n",
    "    elif x==\"home\":\n",
    "        return 1\n",
    "    elif x==\"course\":\n",
    "        return 2\n",
    "    else:\n",
    "        return 3\n",
    " \n",
    "# Applying the conditions\n",
    "data['reason2'] = data['reason'].apply(condition)"
   ]
  },
  {
   "cell_type": "code",
   "execution_count": 62,
   "metadata": {},
   "outputs": [
    {
     "data": {
      "text/plain": [
       "array(['mother', 'father', 'other'], dtype=object)"
      ]
     },
     "execution_count": 62,
     "metadata": {},
     "output_type": "execute_result"
    }
   ],
   "source": [
    "data['guardian'].unique()"
   ]
  },
  {
   "cell_type": "code",
   "execution_count": 63,
   "metadata": {},
   "outputs": [],
   "source": [
    "#Categorization of the Domicile variable\n",
    "# Defining all the conditions inside a function\n",
    "def condition(x):\n",
    "    if x==\"mother\":\n",
    "        return 0\n",
    "    elif x==\"father\":\n",
    "        return 1\n",
    "    else:\n",
    "        return 2\n",
    " \n",
    "# Applying the conditions\n",
    "data['guardian2'] = data['guardian'].apply(condition)"
   ]
  },
  {
   "cell_type": "code",
   "execution_count": 64,
   "metadata": {},
   "outputs": [
    {
     "data": {
      "text/html": [
       "<div>\n",
       "<style scoped>\n",
       "    .dataframe tbody tr th:only-of-type {\n",
       "        vertical-align: middle;\n",
       "    }\n",
       "\n",
       "    .dataframe tbody tr th {\n",
       "        vertical-align: top;\n",
       "    }\n",
       "\n",
       "    .dataframe thead th {\n",
       "        text-align: right;\n",
       "    }\n",
       "</style>\n",
       "<table border=\"1\" class=\"dataframe\">\n",
       "  <thead>\n",
       "    <tr style=\"text-align: right;\">\n",
       "      <th></th>\n",
       "      <th>school</th>\n",
       "      <th>sex</th>\n",
       "      <th>age</th>\n",
       "      <th>address</th>\n",
       "      <th>famsize</th>\n",
       "      <th>Pstatus</th>\n",
       "      <th>Medu</th>\n",
       "      <th>Fedu</th>\n",
       "      <th>Mjob</th>\n",
       "      <th>Fjob</th>\n",
       "      <th>...</th>\n",
       "      <th>paid2</th>\n",
       "      <th>activities2</th>\n",
       "      <th>nursery2</th>\n",
       "      <th>higher2</th>\n",
       "      <th>internet2</th>\n",
       "      <th>romantic2</th>\n",
       "      <th>Mjob2</th>\n",
       "      <th>Fjob2</th>\n",
       "      <th>reason2</th>\n",
       "      <th>guardian2</th>\n",
       "    </tr>\n",
       "  </thead>\n",
       "  <tbody>\n",
       "    <tr>\n",
       "      <th>0</th>\n",
       "      <td>GP</td>\n",
       "      <td>F</td>\n",
       "      <td>18</td>\n",
       "      <td>U</td>\n",
       "      <td>GT3</td>\n",
       "      <td>A</td>\n",
       "      <td>4</td>\n",
       "      <td>4</td>\n",
       "      <td>at_home</td>\n",
       "      <td>teacher</td>\n",
       "      <td>...</td>\n",
       "      <td>0</td>\n",
       "      <td>0</td>\n",
       "      <td>1</td>\n",
       "      <td>1</td>\n",
       "      <td>0</td>\n",
       "      <td>0</td>\n",
       "      <td>0</td>\n",
       "      <td>3</td>\n",
       "      <td>2</td>\n",
       "      <td>0</td>\n",
       "    </tr>\n",
       "    <tr>\n",
       "      <th>1</th>\n",
       "      <td>GP</td>\n",
       "      <td>F</td>\n",
       "      <td>17</td>\n",
       "      <td>U</td>\n",
       "      <td>GT3</td>\n",
       "      <td>T</td>\n",
       "      <td>1</td>\n",
       "      <td>1</td>\n",
       "      <td>at_home</td>\n",
       "      <td>other</td>\n",
       "      <td>...</td>\n",
       "      <td>0</td>\n",
       "      <td>0</td>\n",
       "      <td>0</td>\n",
       "      <td>1</td>\n",
       "      <td>1</td>\n",
       "      <td>0</td>\n",
       "      <td>0</td>\n",
       "      <td>4</td>\n",
       "      <td>2</td>\n",
       "      <td>1</td>\n",
       "    </tr>\n",
       "    <tr>\n",
       "      <th>2</th>\n",
       "      <td>GP</td>\n",
       "      <td>F</td>\n",
       "      <td>15</td>\n",
       "      <td>U</td>\n",
       "      <td>LE3</td>\n",
       "      <td>T</td>\n",
       "      <td>1</td>\n",
       "      <td>1</td>\n",
       "      <td>at_home</td>\n",
       "      <td>other</td>\n",
       "      <td>...</td>\n",
       "      <td>0</td>\n",
       "      <td>0</td>\n",
       "      <td>1</td>\n",
       "      <td>1</td>\n",
       "      <td>1</td>\n",
       "      <td>0</td>\n",
       "      <td>0</td>\n",
       "      <td>4</td>\n",
       "      <td>3</td>\n",
       "      <td>0</td>\n",
       "    </tr>\n",
       "    <tr>\n",
       "      <th>3</th>\n",
       "      <td>GP</td>\n",
       "      <td>F</td>\n",
       "      <td>15</td>\n",
       "      <td>U</td>\n",
       "      <td>GT3</td>\n",
       "      <td>T</td>\n",
       "      <td>4</td>\n",
       "      <td>2</td>\n",
       "      <td>health</td>\n",
       "      <td>services</td>\n",
       "      <td>...</td>\n",
       "      <td>0</td>\n",
       "      <td>1</td>\n",
       "      <td>1</td>\n",
       "      <td>1</td>\n",
       "      <td>1</td>\n",
       "      <td>1</td>\n",
       "      <td>1</td>\n",
       "      <td>2</td>\n",
       "      <td>0</td>\n",
       "      <td>0</td>\n",
       "    </tr>\n",
       "    <tr>\n",
       "      <th>4</th>\n",
       "      <td>GP</td>\n",
       "      <td>F</td>\n",
       "      <td>16</td>\n",
       "      <td>U</td>\n",
       "      <td>GT3</td>\n",
       "      <td>T</td>\n",
       "      <td>3</td>\n",
       "      <td>3</td>\n",
       "      <td>other</td>\n",
       "      <td>other</td>\n",
       "      <td>...</td>\n",
       "      <td>0</td>\n",
       "      <td>0</td>\n",
       "      <td>1</td>\n",
       "      <td>1</td>\n",
       "      <td>0</td>\n",
       "      <td>0</td>\n",
       "      <td>4</td>\n",
       "      <td>4</td>\n",
       "      <td>0</td>\n",
       "      <td>1</td>\n",
       "    </tr>\n",
       "  </tbody>\n",
       "</table>\n",
       "<p>5 rows × 52 columns</p>\n",
       "</div>"
      ],
      "text/plain": [
       "  school sex  age address famsize Pstatus  Medu  Fedu     Mjob      Fjob  ...  \\\n",
       "0     GP   F   18       U     GT3       A     4     4  at_home   teacher  ...   \n",
       "1     GP   F   17       U     GT3       T     1     1  at_home     other  ...   \n",
       "2     GP   F   15       U     LE3       T     1     1  at_home     other  ...   \n",
       "3     GP   F   15       U     GT3       T     4     2   health  services  ...   \n",
       "4     GP   F   16       U     GT3       T     3     3    other     other  ...   \n",
       "\n",
       "  paid2 activities2  nursery2  higher2  internet2 romantic2 Mjob2 Fjob2  \\\n",
       "0     0           0         1        1          0         0     0     3   \n",
       "1     0           0         0        1          1         0     0     4   \n",
       "2     0           0         1        1          1         0     0     4   \n",
       "3     0           1         1        1          1         1     1     2   \n",
       "4     0           0         1        1          0         0     4     4   \n",
       "\n",
       "  reason2 guardian2  \n",
       "0       2         0  \n",
       "1       2         1  \n",
       "2       3         0  \n",
       "3       0         0  \n",
       "4       0         1  \n",
       "\n",
       "[5 rows x 52 columns]"
      ]
     },
     "execution_count": 64,
     "metadata": {},
     "output_type": "execute_result"
    }
   ],
   "source": [
    "data.head()"
   ]
  },
  {
   "cell_type": "code",
   "execution_count": 65,
   "metadata": {},
   "outputs": [],
   "source": [
    "# Create the X and y data sets\n",
    "X = data[['school2', 'sex2', 'age', 'address2', 'famsize2', 'Pstatus2', 'Medu', 'Fedu',\n",
    "       'Mjob2', 'Fjob2', 'reason2', 'guardian2', 'traveltime', 'studytime',\n",
    "       'failures', 'schoolsup2', 'famsup2', 'paid2', 'activities2', 'nursery2',\n",
    "       'higher2', 'internet2', 'romantic2', 'famrel', 'freetime', 'goout', 'health', 'absences']]\n",
    "y = data[['alcohol_week']]"
   ]
  },
  {
   "cell_type": "code",
   "execution_count": 66,
   "metadata": {},
   "outputs": [],
   "source": [
    "# Using test_train_split to create the training and test sets\n",
    "X_train, X_test, y_train, y_test = train_test_split(X, y, test_size=.3, random_state=123)"
   ]
  },
  {
   "cell_type": "code",
   "execution_count": 67,
   "metadata": {},
   "outputs": [],
   "source": [
    "from sklearn import tree"
   ]
  },
  {
   "cell_type": "code",
   "execution_count": 68,
   "metadata": {},
   "outputs": [],
   "source": [
    "clf= tree.DecisionTreeClassifier(max_depth =5)\n",
    "clf = clf.fit(X, y)"
   ]
  },
  {
   "cell_type": "code",
   "execution_count": 69,
   "metadata": {},
   "outputs": [
    {
     "data": {
      "text/plain": [
       "[Text(0.5451388888888888, 0.9166666666666666, 'X[1] <= 0.5\\ngini = 0.424\\nsamples = 649\\nvalue = [451, 198]'),\n",
       " Text(0.2847222222222222, 0.75, 'X[25] <= 3.5\\ngini = 0.495\\nsamples = 266\\nvalue = [146, 120]'),\n",
       " Text(0.1388888888888889, 0.5833333333333334, 'X[27] <= 11.5\\ngini = 0.442\\nsamples = 158\\nvalue = [106, 52]'),\n",
       " Text(0.1111111111111111, 0.4166666666666667, 'X[0] <= 0.5\\ngini = 0.422\\nsamples = 152\\nvalue = [106, 46]'),\n",
       " Text(0.05555555555555555, 0.25, 'X[24] <= 1.5\\ngini = 0.5\\nsamples = 43\\nvalue = [21, 22]'),\n",
       " Text(0.027777777777777776, 0.08333333333333333, 'gini = 0.219\\nsamples = 8\\nvalue = [1, 7]'),\n",
       " Text(0.08333333333333333, 0.08333333333333333, 'gini = 0.49\\nsamples = 35\\nvalue = [20, 15]'),\n",
       " Text(0.16666666666666666, 0.25, 'X[23] <= 1.5\\ngini = 0.343\\nsamples = 109\\nvalue = [85, 24]'),\n",
       " Text(0.1388888888888889, 0.08333333333333333, 'gini = 0.0\\nsamples = 2\\nvalue = [0, 2]'),\n",
       " Text(0.19444444444444445, 0.08333333333333333, 'gini = 0.327\\nsamples = 107\\nvalue = [85, 22]'),\n",
       " Text(0.16666666666666666, 0.4166666666666667, 'gini = 0.0\\nsamples = 6\\nvalue = [0, 6]'),\n",
       " Text(0.4305555555555556, 0.5833333333333334, 'X[13] <= 1.5\\ngini = 0.466\\nsamples = 108\\nvalue = [40, 68]'),\n",
       " Text(0.3333333333333333, 0.4166666666666667, 'X[6] <= 3.5\\ngini = 0.36\\nsamples = 51\\nvalue = [12, 39]'),\n",
       " Text(0.2777777777777778, 0.25, 'X[27] <= 20.0\\ngini = 0.26\\nsamples = 39\\nvalue = [6, 33]'),\n",
       " Text(0.25, 0.08333333333333333, 'gini = 0.229\\nsamples = 38\\nvalue = [5, 33]'),\n",
       " Text(0.3055555555555556, 0.08333333333333333, 'gini = 0.0\\nsamples = 1\\nvalue = [1, 0]'),\n",
       " Text(0.3888888888888889, 0.25, 'X[0] <= 0.5\\ngini = 0.5\\nsamples = 12\\nvalue = [6, 6]'),\n",
       " Text(0.3611111111111111, 0.08333333333333333, 'gini = 0.0\\nsamples = 3\\nvalue = [3, 0]'),\n",
       " Text(0.4166666666666667, 0.08333333333333333, 'gini = 0.444\\nsamples = 9\\nvalue = [3, 6]'),\n",
       " Text(0.5277777777777778, 0.4166666666666667, 'X[15] <= 0.5\\ngini = 0.5\\nsamples = 57\\nvalue = [28, 29]'),\n",
       " Text(0.5, 0.25, 'X[18] <= 0.5\\ngini = 0.497\\nsamples = 54\\nvalue = [25, 29]'),\n",
       " Text(0.4722222222222222, 0.08333333333333333, 'gini = 0.391\\nsamples = 15\\nvalue = [4, 11]'),\n",
       " Text(0.5277777777777778, 0.08333333333333333, 'gini = 0.497\\nsamples = 39\\nvalue = [21, 18]'),\n",
       " Text(0.5555555555555556, 0.25, 'gini = 0.0\\nsamples = 3\\nvalue = [3, 0]'),\n",
       " Text(0.8055555555555556, 0.75, 'X[27] <= 22.5\\ngini = 0.324\\nsamples = 383\\nvalue = [305, 78]'),\n",
       " Text(0.7777777777777778, 0.5833333333333334, 'X[11] <= 0.5\\ngini = 0.317\\nsamples = 380\\nvalue = [305, 75]'),\n",
       " Text(0.6666666666666666, 0.4166666666666667, 'X[24] <= 3.5\\ngini = 0.258\\nsamples = 270\\nvalue = [229, 41]'),\n",
       " Text(0.6111111111111112, 0.25, 'X[23] <= 4.5\\ngini = 0.205\\nsamples = 190\\nvalue = [168, 22]'),\n",
       " Text(0.5833333333333334, 0.08333333333333333, 'gini = 0.254\\nsamples = 141\\nvalue = [120, 21]'),\n",
       " Text(0.6388888888888888, 0.08333333333333333, 'gini = 0.04\\nsamples = 49\\nvalue = [48, 1]'),\n",
       " Text(0.7222222222222222, 0.25, 'X[25] <= 4.5\\ngini = 0.362\\nsamples = 80\\nvalue = [61, 19]'),\n",
       " Text(0.6944444444444444, 0.08333333333333333, 'gini = 0.424\\nsamples = 59\\nvalue = [41, 18]'),\n",
       " Text(0.75, 0.08333333333333333, 'gini = 0.091\\nsamples = 21\\nvalue = [20, 1]'),\n",
       " Text(0.8888888888888888, 0.4166666666666667, 'X[26] <= 4.5\\ngini = 0.427\\nsamples = 110\\nvalue = [76, 34]'),\n",
       " Text(0.8333333333333334, 0.25, 'X[7] <= 1.5\\ngini = 0.353\\nsamples = 70\\nvalue = [54, 16]'),\n",
       " Text(0.8055555555555556, 0.08333333333333333, 'gini = 0.461\\nsamples = 25\\nvalue = [16, 9]'),\n",
       " Text(0.8611111111111112, 0.08333333333333333, 'gini = 0.263\\nsamples = 45\\nvalue = [38, 7]'),\n",
       " Text(0.9444444444444444, 0.25, 'X[25] <= 2.5\\ngini = 0.495\\nsamples = 40\\nvalue = [22, 18]'),\n",
       " Text(0.9166666666666666, 0.08333333333333333, 'gini = 0.337\\nsamples = 14\\nvalue = [11, 3]'),\n",
       " Text(0.9722222222222222, 0.08333333333333333, 'gini = 0.488\\nsamples = 26\\nvalue = [11, 15]'),\n",
       " Text(0.8333333333333334, 0.5833333333333334, 'gini = 0.0\\nsamples = 3\\nvalue = [0, 3]')]"
      ]
     },
     "execution_count": 69,
     "metadata": {},
     "output_type": "execute_result"
    },
    {
     "data": {
      "image/png": "[encoded data removed]",
      "text/plain": [
       "<Figure size 640x480 with 1 Axes>"
      ]
     },
     "metadata": {},
     "output_type": "display_data"
    }
   ],
   "source": [
    "tree.plot_tree(clf)"
   ]
  },
  {
   "cell_type": "code",
   "execution_count": 70,
   "metadata": {},
   "outputs": [],
   "source": [
    "import graphviz"
   ]
  },
  {
   "cell_type": "code",
   "execution_count": 71,
   "metadata": {},
   "outputs": [
    {
     "data": {
      "image/svg+xml": "<?xml version=\"1.0\" encoding=\"UTF-8\" standalone=\"no\"?>\n<!DOCTYPE svg PUBLIC \"-//W3C//DTD SVG 1.1//EN\"\n \"http://www.w3.org/Graphics/SVG/1.1/DTD/svg11.dtd\">\n<!-- Generated by graphviz version 2.50.0 (0)\n -->\n<!-- Title: Tree Pages: 1 -->\n<svg width=\"2171pt\" height=\"581pt\"\n viewBox=\"0.00 0.00 2171.00 581.00\" xmlns=\"http://www.w3.org/2000/svg\" xmlns:xlink=\"http://www.w3.org/1999/xlink\">\n<g id=\"graph0\" class=\"graph\" transform=\"scale(1 1) rotate(0) translate(4 577)\">\n<title>Tree</title>\n<polygon fill=\"white\" stroke=\"transparent\" points=\"-4,4 -4,-577 2167,-577 2167,4 -4,4\"/>\n<!-- 0 -->\n<g id=\"node1\" class=\"node\">\n<title>0</title>\n<path fill=\"#f0b890\" stroke=\"black\" d=\"M1227,-573C1227,-573 1126,-573 1126,-573 1120,-573 1114,-567 1114,-561 1114,-561 1114,-517 1114,-517 1114,-511 1120,-505 1126,-505 1126,-505 1227,-505 1227,-505 1233,-505 1239,-511 1239,-517 1239,-517 1239,-561 1239,-561 1239,-567 1233,-573 1227,-573\"/>\n<text text-anchor=\"middle\" x=\"1176.5\" y=\"-557.8\" font-family=\"Helvetica,sans-Serif\" font-size=\"14.00\">X[1] &lt;= 0.5</text>\n<text text-anchor=\"middle\" x=\"1176.5\" y=\"-542.8\" font-family=\"Helvetica,sans-Serif\" font-size=\"14.00\">gini = 0.424</text>\n<text text-anchor=\"middle\" x=\"1176.5\" y=\"-527.8\" font-family=\"Helvetica,sans-Serif\" font-size=\"14.00\">samples = 649</text>\n<text text-anchor=\"middle\" x=\"1176.5\" y=\"-512.8\" font-family=\"Helvetica,sans-Serif\" font-size=\"14.00\">value = [451, 198]</text>\n</g>\n<!-- 1 -->\n<g id=\"node2\" class=\"node\">\n<title>1</title>\n<path fill=\"#fae9dc\" stroke=\"black\" d=\"M927,-469C927,-469 826,-469 826,-469 820,-469 814,-463 814,-457 814,-457 814,-413 814,-413 814,-407 820,-401 826,-401 826,-401 927,-401 927,-401 933,-401 939,-407 939,-413 939,-413 939,-457 939,-457 939,-463 933,-469 927,-469\"/>\n<text text-anchor=\"middle\" x=\"876.5\" y=\"-453.8\" font-family=\"Helvetica,sans-Serif\" font-size=\"14.00\">X[25] &lt;= 3.5</text>\n<text text-anchor=\"middle\" x=\"876.5\" y=\"-438.8\" font-family=\"Helvetica,sans-Serif\" font-size=\"14.00\">gini = 0.495</text>\n<text text-anchor=\"middle\" x=\"876.5\" y=\"-423.8\" font-family=\"Helvetica,sans-Serif\" font-size=\"14.00\">samples = 266</text>\n<text text-anchor=\"middle\" x=\"876.5\" y=\"-408.8\" font-family=\"Helvetica,sans-Serif\" font-size=\"14.00\">value = [146, 120]</text>\n</g>\n<!-- 0&#45;&gt;1 -->\n<g id=\"edge1\" class=\"edge\">\n<title>0&#45;&gt;1</title>\n<path fill=\"none\" stroke=\"black\" d=\"M1113.98,-516.74C1065.82,-500.37 999.18,-477.71 948.74,-460.56\"/>\n<polygon fill=\"black\" stroke=\"black\" points=\"949.8,-457.22 939.2,-457.32 947.54,-463.85 949.8,-457.22\"/>\n<text text-anchor=\"middle\" x=\"950.25\" y=\"-476.05\" font-family=\"Helvetica,sans-Serif\" font-size=\"14.00\">True</text>\n</g>\n<!-- 24 -->\n<g id=\"node25\" class=\"node\">\n<title>24</title>\n<path fill=\"#eca16c\" stroke=\"black\" d=\"M1486,-469C1486,-469 1393,-469 1393,-469 1387,-469 1381,-463 1381,-457 1381,-457 1381,-413 1381,-413 1381,-407 1387,-401 1393,-401 1393,-401 1486,-401 1486,-401 1492,-401 1498,-407 1498,-413 1498,-413 1498,-457 1498,-457 1498,-463 1492,-469 1486,-469\"/>\n<text text-anchor=\"middle\" x=\"1439.5\" y=\"-453.8\" font-family=\"Helvetica,sans-Serif\" font-size=\"14.00\">X[27] &lt;= 22.5</text>\n<text text-anchor=\"middle\" x=\"1439.5\" y=\"-438.8\" font-family=\"Helvetica,sans-Serif\" font-size=\"14.00\">gini = 0.324</text>\n<text text-anchor=\"middle\" x=\"1439.5\" y=\"-423.8\" font-family=\"Helvetica,sans-Serif\" font-size=\"14.00\">samples = 383</text>\n<text text-anchor=\"middle\" x=\"1439.5\" y=\"-408.8\" font-family=\"Helvetica,sans-Serif\" font-size=\"14.00\">value = [305, 78]</text>\n</g>\n<!-- 0&#45;&gt;24 -->\n<g id=\"edge24\" class=\"edge\">\n<title>0&#45;&gt;24</title>\n<path fill=\"none\" stroke=\"black\" d=\"M1239.16,-513.7C1279.05,-498.23 1330.71,-478.19 1371.58,-462.34\"/>\n<polygon fill=\"black\" stroke=\"black\" points=\"1372.87,-465.6 1380.92,-458.72 1370.33,-459.07 1372.87,-465.6\"/>\n<text text-anchor=\"middle\" x=\"1370.83\" y=\"-477.89\" font-family=\"Helvetica,sans-Serif\" font-size=\"14.00\">False</text>\n</g>\n<!-- 2 -->\n<g id=\"node3\" class=\"node\">\n<title>2</title>\n<path fill=\"#f2bf9a\" stroke=\"black\" d=\"M683,-365C683,-365 590,-365 590,-365 584,-365 578,-359 578,-353 578,-353 578,-309 578,-309 578,-303 584,-297 590,-297 590,-297 683,-297 683,-297 689,-297 695,-303 695,-309 695,-309 695,-353 695,-353 695,-359 689,-365 683,-365\"/>\n<text text-anchor=\"middle\" x=\"636.5\" y=\"-349.8\" font-family=\"Helvetica,sans-Serif\" font-size=\"14.00\">X[27] &lt;= 11.5</text>\n<text text-anchor=\"middle\" x=\"636.5\" y=\"-334.8\" font-family=\"Helvetica,sans-Serif\" font-size=\"14.00\">gini = 0.442</text>\n<text text-anchor=\"middle\" x=\"636.5\" y=\"-319.8\" font-family=\"Helvetica,sans-Serif\" font-size=\"14.00\">samples = 158</text>\n<text text-anchor=\"middle\" x=\"636.5\" y=\"-304.8\" font-family=\"Helvetica,sans-Serif\" font-size=\"14.00\">value = [106, 52]</text>\n</g>\n<!-- 1&#45;&gt;2 -->\n<g id=\"edge2\" class=\"edge\">\n<title>1&#45;&gt;2</title>\n<path fill=\"none\" stroke=\"black\" d=\"M813.76,-407.33C780.24,-393.09 738.94,-375.54 704.64,-360.96\"/>\n<polygon fill=\"black\" stroke=\"black\" points=\"705.74,-357.62 695.17,-356.93 703,-364.07 705.74,-357.62\"/>\n</g>\n<!-- 11 -->\n<g id=\"node12\" class=\"node\">\n<title>11</title>\n<path fill=\"#add7f4\" stroke=\"black\" d=\"M919.5,-365C919.5,-365 833.5,-365 833.5,-365 827.5,-365 821.5,-359 821.5,-353 821.5,-353 821.5,-309 821.5,-309 821.5,-303 827.5,-297 833.5,-297 833.5,-297 919.5,-297 919.5,-297 925.5,-297 931.5,-303 931.5,-309 931.5,-309 931.5,-353 931.5,-353 931.5,-359 925.5,-365 919.5,-365\"/>\n<text text-anchor=\"middle\" x=\"876.5\" y=\"-349.8\" font-family=\"Helvetica,sans-Serif\" font-size=\"14.00\">X[13] &lt;= 1.5</text>\n<text text-anchor=\"middle\" x=\"876.5\" y=\"-334.8\" font-family=\"Helvetica,sans-Serif\" font-size=\"14.00\">gini = 0.466</text>\n<text text-anchor=\"middle\" x=\"876.5\" y=\"-319.8\" font-family=\"Helvetica,sans-Serif\" font-size=\"14.00\">samples = 108</text>\n<text text-anchor=\"middle\" x=\"876.5\" y=\"-304.8\" font-family=\"Helvetica,sans-Serif\" font-size=\"14.00\">value = [40, 68]</text>\n</g>\n<!-- 1&#45;&gt;11 -->\n<g id=\"edge11\" class=\"edge\">\n<title>1&#45;&gt;11</title>\n<path fill=\"none\" stroke=\"black\" d=\"M876.5,-400.88C876.5,-392.78 876.5,-383.98 876.5,-375.47\"/>\n<polygon fill=\"black\" stroke=\"black\" points=\"880,-375.3 876.5,-365.3 873,-375.3 880,-375.3\"/>\n</g>\n<!-- 3 -->\n<g id=\"node4\" class=\"node\">\n<title>3</title>\n<path fill=\"#f0b88f\" stroke=\"black\" d=\"M397,-261C397,-261 304,-261 304,-261 298,-261 292,-255 292,-249 292,-249 292,-205 292,-205 292,-199 298,-193 304,-193 304,-193 397,-193 397,-193 403,-193 409,-199 409,-205 409,-205 409,-249 409,-249 409,-255 403,-261 397,-261\"/>\n<text text-anchor=\"middle\" x=\"350.5\" y=\"-245.8\" font-family=\"Helvetica,sans-Serif\" font-size=\"14.00\">X[0] &lt;= 0.5</text>\n<text text-anchor=\"middle\" x=\"350.5\" y=\"-230.8\" font-family=\"Helvetica,sans-Serif\" font-size=\"14.00\">gini = 0.422</text>\n<text text-anchor=\"middle\" x=\"350.5\" y=\"-215.8\" font-family=\"Helvetica,sans-Serif\" font-size=\"14.00\">samples = 152</text>\n<text text-anchor=\"middle\" x=\"350.5\" y=\"-200.8\" font-family=\"Helvetica,sans-Serif\" font-size=\"14.00\">value = [106, 46]</text>\n</g>\n<!-- 2&#45;&gt;3 -->\n<g id=\"edge3\" class=\"edge\">\n<title>2&#45;&gt;3</title>\n<path fill=\"none\" stroke=\"black\" d=\"M577.93,-309.11C531.82,-292.67 467.45,-269.71 418.96,-252.41\"/>\n<polygon fill=\"black\" stroke=\"black\" points=\"420.07,-249.1 409.48,-249.03 417.72,-255.69 420.07,-249.1\"/>\n</g>\n<!-- 10 -->\n<g id=\"node11\" class=\"node\">\n<title>10</title>\n<path fill=\"#399de5\" stroke=\"black\" d=\"M672,-253.5C672,-253.5 601,-253.5 601,-253.5 595,-253.5 589,-247.5 589,-241.5 589,-241.5 589,-212.5 589,-212.5 589,-206.5 595,-200.5 601,-200.5 601,-200.5 672,-200.5 672,-200.5 678,-200.5 684,-206.5 684,-212.5 684,-212.5 684,-241.5 684,-241.5 684,-247.5 678,-253.5 672,-253.5\"/>\n<text text-anchor=\"middle\" x=\"636.5\" y=\"-238.3\" font-family=\"Helvetica,sans-Serif\" font-size=\"14.00\">gini = 0.0</text>\n<text text-anchor=\"middle\" x=\"636.5\" y=\"-223.3\" font-family=\"Helvetica,sans-Serif\" font-size=\"14.00\">samples = 6</text>\n<text text-anchor=\"middle\" x=\"636.5\" y=\"-208.3\" font-family=\"Helvetica,sans-Serif\" font-size=\"14.00\">value = [0, 6]</text>\n</g>\n<!-- 2&#45;&gt;10 -->\n<g id=\"edge10\" class=\"edge\">\n<title>2&#45;&gt;10</title>\n<path fill=\"none\" stroke=\"black\" d=\"M636.5,-296.88C636.5,-286.33 636.5,-274.6 636.5,-263.85\"/>\n<polygon fill=\"black\" stroke=\"black\" points=\"640,-263.52 636.5,-253.52 633,-263.52 640,-263.52\"/>\n</g>\n<!-- 4 -->\n<g id=\"node5\" class=\"node\">\n<title>4</title>\n<path fill=\"#f6fbfe\" stroke=\"black\" d=\"M211.5,-157C211.5,-157 125.5,-157 125.5,-157 119.5,-157 113.5,-151 113.5,-145 113.5,-145 113.5,-101 113.5,-101 113.5,-95 119.5,-89 125.5,-89 125.5,-89 211.5,-89 211.5,-89 217.5,-89 223.5,-95 223.5,-101 223.5,-101 223.5,-145 223.5,-145 223.5,-151 217.5,-157 211.5,-157\"/>\n<text text-anchor=\"middle\" x=\"168.5\" y=\"-141.8\" font-family=\"Helvetica,sans-Serif\" font-size=\"14.00\">X[24] &lt;= 1.5</text>\n<text text-anchor=\"middle\" x=\"168.5\" y=\"-126.8\" font-family=\"Helvetica,sans-Serif\" font-size=\"14.00\">gini = 0.5</text>\n<text text-anchor=\"middle\" x=\"168.5\" y=\"-111.8\" font-family=\"Helvetica,sans-Serif\" font-size=\"14.00\">samples = 43</text>\n<text text-anchor=\"middle\" x=\"168.5\" y=\"-96.8\" font-family=\"Helvetica,sans-Serif\" font-size=\"14.00\">value = [21, 22]</text>\n</g>\n<!-- 3&#45;&gt;4 -->\n<g id=\"edge4\" class=\"edge\">\n<title>3&#45;&gt;4</title>\n<path fill=\"none\" stroke=\"black\" d=\"M291.91,-193.17C272.9,-182.51 251.71,-170.64 232.34,-159.78\"/>\n<polygon fill=\"black\" stroke=\"black\" points=\"234.01,-156.7 223.57,-154.87 230.59,-162.81 234.01,-156.7\"/>\n</g>\n<!-- 7 -->\n<g id=\"node8\" class=\"node\">\n<title>7</title>\n<path fill=\"#eca571\" stroke=\"black\" d=\"M393.5,-157C393.5,-157 307.5,-157 307.5,-157 301.5,-157 295.5,-151 295.5,-145 295.5,-145 295.5,-101 295.5,-101 295.5,-95 301.5,-89 307.5,-89 307.5,-89 393.5,-89 393.5,-89 399.5,-89 405.5,-95 405.5,-101 405.5,-101 405.5,-145 405.5,-145 405.5,-151 399.5,-157 393.5,-157\"/>\n<text text-anchor=\"middle\" x=\"350.5\" y=\"-141.8\" font-family=\"Helvetica,sans-Serif\" font-size=\"14.00\">X[23] &lt;= 1.5</text>\n<text text-anchor=\"middle\" x=\"350.5\" y=\"-126.8\" font-family=\"Helvetica,sans-Serif\" font-size=\"14.00\">gini = 0.343</text>\n<text text-anchor=\"middle\" x=\"350.5\" y=\"-111.8\" font-family=\"Helvetica,sans-Serif\" font-size=\"14.00\">samples = 109</text>\n<text text-anchor=\"middle\" x=\"350.5\" y=\"-96.8\" font-family=\"Helvetica,sans-Serif\" font-size=\"14.00\">value = [85, 24]</text>\n</g>\n<!-- 3&#45;&gt;7 -->\n<g id=\"edge7\" class=\"edge\">\n<title>3&#45;&gt;7</title>\n<path fill=\"none\" stroke=\"black\" d=\"M350.5,-192.88C350.5,-184.78 350.5,-175.98 350.5,-167.47\"/>\n<polygon fill=\"black\" stroke=\"black\" points=\"354,-167.3 350.5,-157.3 347,-167.3 354,-167.3\"/>\n</g>\n<!-- 5 -->\n<g id=\"node6\" class=\"node\">\n<title>5</title>\n<path fill=\"#55abe9\" stroke=\"black\" d=\"M83,-53C83,-53 12,-53 12,-53 6,-53 0,-47 0,-41 0,-41 0,-12 0,-12 0,-6 6,0 12,0 12,0 83,0 83,0 89,0 95,-6 95,-12 95,-12 95,-41 95,-41 95,-47 89,-53 83,-53\"/>\n<text text-anchor=\"middle\" x=\"47.5\" y=\"-37.8\" font-family=\"Helvetica,sans-Serif\" font-size=\"14.00\">gini = 0.219</text>\n<text text-anchor=\"middle\" x=\"47.5\" y=\"-22.8\" font-family=\"Helvetica,sans-Serif\" font-size=\"14.00\">samples = 8</text>\n<text text-anchor=\"middle\" x=\"47.5\" y=\"-7.8\" font-family=\"Helvetica,sans-Serif\" font-size=\"14.00\">value = [1, 7]</text>\n</g>\n<!-- 4&#45;&gt;5 -->\n<g id=\"edge5\" class=\"edge\">\n<title>4&#45;&gt;5</title>\n<path fill=\"none\" stroke=\"black\" d=\"M126.18,-88.95C114,-79.43 100.73,-69.07 88.62,-59.62\"/>\n<polygon fill=\"black\" stroke=\"black\" points=\"90.49,-56.63 80.45,-53.24 86.18,-62.15 90.49,-56.63\"/>\n</g>\n<!-- 6 -->\n<g id=\"node7\" class=\"node\">\n<title>6</title>\n<path fill=\"#f8e0ce\" stroke=\"black\" d=\"M211.5,-53C211.5,-53 125.5,-53 125.5,-53 119.5,-53 113.5,-47 113.5,-41 113.5,-41 113.5,-12 113.5,-12 113.5,-6 119.5,0 125.5,0 125.5,0 211.5,0 211.5,0 217.5,0 223.5,-6 223.5,-12 223.5,-12 223.5,-41 223.5,-41 223.5,-47 217.5,-53 211.5,-53\"/>\n<text text-anchor=\"middle\" x=\"168.5\" y=\"-37.8\" font-family=\"Helvetica,sans-Serif\" font-size=\"14.00\">gini = 0.49</text>\n<text text-anchor=\"middle\" x=\"168.5\" y=\"-22.8\" font-family=\"Helvetica,sans-Serif\" font-size=\"14.00\">samples = 35</text>\n<text text-anchor=\"middle\" x=\"168.5\" y=\"-7.8\" font-family=\"Helvetica,sans-Serif\" font-size=\"14.00\">value = [20, 15]</text>\n</g>\n<!-- 4&#45;&gt;6 -->\n<g id=\"edge6\" class=\"edge\">\n<title>4&#45;&gt;6</title>\n<path fill=\"none\" stroke=\"black\" d=\"M168.5,-88.95C168.5,-80.72 168.5,-71.85 168.5,-63.48\"/>\n<polygon fill=\"black\" stroke=\"black\" points=\"172,-63.24 168.5,-53.24 165,-63.24 172,-63.24\"/>\n</g>\n<!-- 8 -->\n<g id=\"node9\" class=\"node\">\n<title>8</title>\n<path fill=\"#399de5\" stroke=\"black\" d=\"M325,-53C325,-53 254,-53 254,-53 248,-53 242,-47 242,-41 242,-41 242,-12 242,-12 242,-6 248,0 254,0 254,0 325,0 325,0 331,0 337,-6 337,-12 337,-12 337,-41 337,-41 337,-47 331,-53 325,-53\"/>\n<text text-anchor=\"middle\" x=\"289.5\" y=\"-37.8\" font-family=\"Helvetica,sans-Serif\" font-size=\"14.00\">gini = 0.0</text>\n<text text-anchor=\"middle\" x=\"289.5\" y=\"-22.8\" font-family=\"Helvetica,sans-Serif\" font-size=\"14.00\">samples = 2</text>\n<text text-anchor=\"middle\" x=\"289.5\" y=\"-7.8\" font-family=\"Helvetica,sans-Serif\" font-size=\"14.00\">value = [0, 2]</text>\n</g>\n<!-- 7&#45;&gt;8 -->\n<g id=\"edge8\" class=\"edge\">\n<title>7&#45;&gt;8</title>\n<path fill=\"none\" stroke=\"black\" d=\"M329.17,-88.95C323.5,-80.17 317.36,-70.66 311.65,-61.82\"/>\n<polygon fill=\"black\" stroke=\"black\" points=\"314.48,-59.74 306.11,-53.24 308.6,-63.54 314.48,-59.74\"/>\n</g>\n<!-- 9 -->\n<g id=\"node10\" class=\"node\">\n<title>9</title>\n<path fill=\"#eca26c\" stroke=\"black\" d=\"M453.5,-53C453.5,-53 367.5,-53 367.5,-53 361.5,-53 355.5,-47 355.5,-41 355.5,-41 355.5,-12 355.5,-12 355.5,-6 361.5,0 367.5,0 367.5,0 453.5,0 453.5,0 459.5,0 465.5,-6 465.5,-12 465.5,-12 465.5,-41 465.5,-41 465.5,-47 459.5,-53 453.5,-53\"/>\n<text text-anchor=\"middle\" x=\"410.5\" y=\"-37.8\" font-family=\"Helvetica,sans-Serif\" font-size=\"14.00\">gini = 0.327</text>\n<text text-anchor=\"middle\" x=\"410.5\" y=\"-22.8\" font-family=\"Helvetica,sans-Serif\" font-size=\"14.00\">samples = 107</text>\n<text text-anchor=\"middle\" x=\"410.5\" y=\"-7.8\" font-family=\"Helvetica,sans-Serif\" font-size=\"14.00\">value = [85, 22]</text>\n</g>\n<!-- 7&#45;&gt;9 -->\n<g id=\"edge9\" class=\"edge\">\n<title>7&#45;&gt;9</title>\n<path fill=\"none\" stroke=\"black\" d=\"M371.49,-88.95C377.06,-80.17 383.09,-70.66 388.71,-61.82\"/>\n<polygon fill=\"black\" stroke=\"black\" points=\"391.75,-63.55 394.16,-53.24 385.84,-59.8 391.75,-63.55\"/>\n</g>\n<!-- 12 -->\n<g id=\"node13\" class=\"node\">\n<title>12</title>\n<path fill=\"#76bbed\" stroke=\"black\" d=\"M860.5,-261C860.5,-261 774.5,-261 774.5,-261 768.5,-261 762.5,-255 762.5,-249 762.5,-249 762.5,-205 762.5,-205 762.5,-199 768.5,-193 774.5,-193 774.5,-193 860.5,-193 860.5,-193 866.5,-193 872.5,-199 872.5,-205 872.5,-205 872.5,-249 872.5,-249 872.5,-255 866.5,-261 860.5,-261\"/>\n<text text-anchor=\"middle\" x=\"817.5\" y=\"-245.8\" font-family=\"Helvetica,sans-Serif\" font-size=\"14.00\">X[6] &lt;= 3.5</text>\n<text text-anchor=\"middle\" x=\"817.5\" y=\"-230.8\" font-family=\"Helvetica,sans-Serif\" font-size=\"14.00\">gini = 0.36</text>\n<text text-anchor=\"middle\" x=\"817.5\" y=\"-215.8\" font-family=\"Helvetica,sans-Serif\" font-size=\"14.00\">samples = 51</text>\n<text text-anchor=\"middle\" x=\"817.5\" y=\"-200.8\" font-family=\"Helvetica,sans-Serif\" font-size=\"14.00\">value = [12, 39]</text>\n</g>\n<!-- 11&#45;&gt;12 -->\n<g id=\"edge12\" class=\"edge\">\n<title>11&#45;&gt;12</title>\n<path fill=\"none\" stroke=\"black\" d=\"M857.34,-296.88C852.4,-288.33 847.01,-279.01 841.84,-270.07\"/>\n<polygon fill=\"black\" stroke=\"black\" points=\"844.8,-268.2 836.76,-261.3 838.74,-271.71 844.8,-268.2\"/>\n</g>\n<!-- 19 -->\n<g id=\"node20\" class=\"node\">\n<title>19</title>\n<path fill=\"#f8fcfe\" stroke=\"black\" d=\"M1036.5,-261C1036.5,-261 950.5,-261 950.5,-261 944.5,-261 938.5,-255 938.5,-249 938.5,-249 938.5,-205 938.5,-205 938.5,-199 944.5,-193 950.5,-193 950.5,-193 1036.5,-193 1036.5,-193 1042.5,-193 1048.5,-199 1048.5,-205 1048.5,-205 1048.5,-249 1048.5,-249 1048.5,-255 1042.5,-261 1036.5,-261\"/>\n<text text-anchor=\"middle\" x=\"993.5\" y=\"-245.8\" font-family=\"Helvetica,sans-Serif\" font-size=\"14.00\">X[15] &lt;= 0.5</text>\n<text text-anchor=\"middle\" x=\"993.5\" y=\"-230.8\" font-family=\"Helvetica,sans-Serif\" font-size=\"14.00\">gini = 0.5</text>\n<text text-anchor=\"middle\" x=\"993.5\" y=\"-215.8\" font-family=\"Helvetica,sans-Serif\" font-size=\"14.00\">samples = 57</text>\n<text text-anchor=\"middle\" x=\"993.5\" y=\"-200.8\" font-family=\"Helvetica,sans-Serif\" font-size=\"14.00\">value = [28, 29]</text>\n</g>\n<!-- 11&#45;&gt;19 -->\n<g id=\"edge19\" class=\"edge\">\n<title>11&#45;&gt;19</title>\n<path fill=\"none\" stroke=\"black\" d=\"M914.49,-296.88C925.01,-287.71 936.55,-277.65 947.48,-268.12\"/>\n<polygon fill=\"black\" stroke=\"black\" points=\"950.07,-270.51 955.3,-261.3 945.47,-265.23 950.07,-270.51\"/>\n</g>\n<!-- 13 -->\n<g id=\"node14\" class=\"node\">\n<title>13</title>\n<path fill=\"#5dafea\" stroke=\"black\" d=\"M690.5,-157C690.5,-157 612.5,-157 612.5,-157 606.5,-157 600.5,-151 600.5,-145 600.5,-145 600.5,-101 600.5,-101 600.5,-95 606.5,-89 612.5,-89 612.5,-89 690.5,-89 690.5,-89 696.5,-89 702.5,-95 702.5,-101 702.5,-101 702.5,-145 702.5,-145 702.5,-151 696.5,-157 690.5,-157\"/>\n<text text-anchor=\"middle\" x=\"651.5\" y=\"-141.8\" font-family=\"Helvetica,sans-Serif\" font-size=\"14.00\">X[27] &lt;= 20.0</text>\n<text text-anchor=\"middle\" x=\"651.5\" y=\"-126.8\" font-family=\"Helvetica,sans-Serif\" font-size=\"14.00\">gini = 0.26</text>\n<text text-anchor=\"middle\" x=\"651.5\" y=\"-111.8\" font-family=\"Helvetica,sans-Serif\" font-size=\"14.00\">samples = 39</text>\n<text text-anchor=\"middle\" x=\"651.5\" y=\"-96.8\" font-family=\"Helvetica,sans-Serif\" font-size=\"14.00\">value = [6, 33]</text>\n</g>\n<!-- 12&#45;&gt;13 -->\n<g id=\"edge13\" class=\"edge\">\n<title>12&#45;&gt;13</title>\n<path fill=\"none\" stroke=\"black\" d=\"M763.6,-192.88C746.92,-182.63 728.43,-171.27 711.37,-160.78\"/>\n<polygon fill=\"black\" stroke=\"black\" points=\"712.94,-157.64 702.59,-155.39 709.27,-163.61 712.94,-157.64\"/>\n</g>\n<!-- 16 -->\n<g id=\"node17\" class=\"node\">\n<title>16</title>\n<path fill=\"#ffffff\" stroke=\"black\" d=\"M854.5,-157C854.5,-157 780.5,-157 780.5,-157 774.5,-157 768.5,-151 768.5,-145 768.5,-145 768.5,-101 768.5,-101 768.5,-95 774.5,-89 780.5,-89 780.5,-89 854.5,-89 854.5,-89 860.5,-89 866.5,-95 866.5,-101 866.5,-101 866.5,-145 866.5,-145 866.5,-151 860.5,-157 854.5,-157\"/>\n<text text-anchor=\"middle\" x=\"817.5\" y=\"-141.8\" font-family=\"Helvetica,sans-Serif\" font-size=\"14.00\">X[0] &lt;= 0.5</text>\n<text text-anchor=\"middle\" x=\"817.5\" y=\"-126.8\" font-family=\"Helvetica,sans-Serif\" font-size=\"14.00\">gini = 0.5</text>\n<text text-anchor=\"middle\" x=\"817.5\" y=\"-111.8\" font-family=\"Helvetica,sans-Serif\" font-size=\"14.00\">samples = 12</text>\n<text text-anchor=\"middle\" x=\"817.5\" y=\"-96.8\" font-family=\"Helvetica,sans-Serif\" font-size=\"14.00\">value = [6, 6]</text>\n</g>\n<!-- 12&#45;&gt;16 -->\n<g id=\"edge16\" class=\"edge\">\n<title>12&#45;&gt;16</title>\n<path fill=\"none\" stroke=\"black\" d=\"M817.5,-192.88C817.5,-184.78 817.5,-175.98 817.5,-167.47\"/>\n<polygon fill=\"black\" stroke=\"black\" points=\"821,-167.3 817.5,-157.3 814,-167.3 821,-167.3\"/>\n</g>\n<!-- 14 -->\n<g id=\"node15\" class=\"node\">\n<title>14</title>\n<path fill=\"#57ace9\" stroke=\"black\" d=\"M573.5,-53C573.5,-53 495.5,-53 495.5,-53 489.5,-53 483.5,-47 483.5,-41 483.5,-41 483.5,-12 483.5,-12 483.5,-6 489.5,0 495.5,0 495.5,0 573.5,0 573.5,0 579.5,0 585.5,-6 585.5,-12 585.5,-12 585.5,-41 585.5,-41 585.5,-47 579.5,-53 573.5,-53\"/>\n<text text-anchor=\"middle\" x=\"534.5\" y=\"-37.8\" font-family=\"Helvetica,sans-Serif\" font-size=\"14.00\">gini = 0.229</text>\n<text text-anchor=\"middle\" x=\"534.5\" y=\"-22.8\" font-family=\"Helvetica,sans-Serif\" font-size=\"14.00\">samples = 38</text>\n<text text-anchor=\"middle\" x=\"534.5\" y=\"-7.8\" font-family=\"Helvetica,sans-Serif\" font-size=\"14.00\">value = [5, 33]</text>\n</g>\n<!-- 13&#45;&gt;14 -->\n<g id=\"edge14\" class=\"edge\">\n<title>13&#45;&gt;14</title>\n<path fill=\"none\" stroke=\"black\" d=\"M610.58,-88.95C598.8,-79.43 585.97,-69.07 574.26,-59.62\"/>\n<polygon fill=\"black\" stroke=\"black\" points=\"576.34,-56.8 566.36,-53.24 571.94,-62.24 576.34,-56.8\"/>\n</g>\n<!-- 15 -->\n<g id=\"node16\" class=\"node\">\n<title>15</title>\n<path fill=\"#e58139\" stroke=\"black\" d=\"M687,-53C687,-53 616,-53 616,-53 610,-53 604,-47 604,-41 604,-41 604,-12 604,-12 604,-6 610,0 616,0 616,0 687,0 687,0 693,0 699,-6 699,-12 699,-12 699,-41 699,-41 699,-47 693,-53 687,-53\"/>\n<text text-anchor=\"middle\" x=\"651.5\" y=\"-37.8\" font-family=\"Helvetica,sans-Serif\" font-size=\"14.00\">gini = 0.0</text>\n<text text-anchor=\"middle\" x=\"651.5\" y=\"-22.8\" font-family=\"Helvetica,sans-Serif\" font-size=\"14.00\">samples = 1</text>\n<text text-anchor=\"middle\" x=\"651.5\" y=\"-7.8\" font-family=\"Helvetica,sans-Serif\" font-size=\"14.00\">value = [1, 0]</text>\n</g>\n<!-- 13&#45;&gt;15 -->\n<g id=\"edge15\" class=\"edge\">\n<title>13&#45;&gt;15</title>\n<path fill=\"none\" stroke=\"black\" d=\"M651.5,-88.95C651.5,-80.72 651.5,-71.85 651.5,-63.48\"/>\n<polygon fill=\"black\" stroke=\"black\" points=\"655,-63.24 651.5,-53.24 648,-63.24 655,-63.24\"/>\n</g>\n<!-- 17 -->\n<g id=\"node18\" class=\"node\">\n<title>17</title>\n<path fill=\"#e58139\" stroke=\"black\" d=\"M800,-53C800,-53 729,-53 729,-53 723,-53 717,-47 717,-41 717,-41 717,-12 717,-12 717,-6 723,0 729,0 729,0 800,0 800,0 806,0 812,-6 812,-12 812,-12 812,-41 812,-41 812,-47 806,-53 800,-53\"/>\n<text text-anchor=\"middle\" x=\"764.5\" y=\"-37.8\" font-family=\"Helvetica,sans-Serif\" font-size=\"14.00\">gini = 0.0</text>\n<text text-anchor=\"middle\" x=\"764.5\" y=\"-22.8\" font-family=\"Helvetica,sans-Serif\" font-size=\"14.00\">samples = 3</text>\n<text text-anchor=\"middle\" x=\"764.5\" y=\"-7.8\" font-family=\"Helvetica,sans-Serif\" font-size=\"14.00\">value = [3, 0]</text>\n</g>\n<!-- 16&#45;&gt;17 -->\n<g id=\"edge17\" class=\"edge\">\n<title>16&#45;&gt;17</title>\n<path fill=\"none\" stroke=\"black\" d=\"M798.96,-88.95C794.09,-80.26 788.82,-70.86 783.9,-62.09\"/>\n<polygon fill=\"black\" stroke=\"black\" points=\"786.88,-60.25 778.93,-53.24 780.77,-63.67 786.88,-60.25\"/>\n</g>\n<!-- 18 -->\n<g id=\"node19\" class=\"node\">\n<title>18</title>\n<path fill=\"#9ccef2\" stroke=\"black\" d=\"M913,-53C913,-53 842,-53 842,-53 836,-53 830,-47 830,-41 830,-41 830,-12 830,-12 830,-6 836,0 842,0 842,0 913,0 913,0 919,0 925,-6 925,-12 925,-12 925,-41 925,-41 925,-47 919,-53 913,-53\"/>\n<text text-anchor=\"middle\" x=\"877.5\" y=\"-37.8\" font-family=\"Helvetica,sans-Serif\" font-size=\"14.00\">gini = 0.444</text>\n<text text-anchor=\"middle\" x=\"877.5\" y=\"-22.8\" font-family=\"Helvetica,sans-Serif\" font-size=\"14.00\">samples = 9</text>\n<text text-anchor=\"middle\" x=\"877.5\" y=\"-7.8\" font-family=\"Helvetica,sans-Serif\" font-size=\"14.00\">value = [3, 6]</text>\n</g>\n<!-- 16&#45;&gt;18 -->\n<g id=\"edge18\" class=\"edge\">\n<title>16&#45;&gt;18</title>\n<path fill=\"none\" stroke=\"black\" d=\"M838.49,-88.95C844.06,-80.17 850.09,-70.66 855.71,-61.82\"/>\n<polygon fill=\"black\" stroke=\"black\" points=\"858.75,-63.55 861.16,-53.24 852.84,-59.8 858.75,-63.55\"/>\n</g>\n<!-- 20 -->\n<g id=\"node21\" class=\"node\">\n<title>20</title>\n<path fill=\"#e4f1fb\" stroke=\"black\" d=\"M1036.5,-157C1036.5,-157 950.5,-157 950.5,-157 944.5,-157 938.5,-151 938.5,-145 938.5,-145 938.5,-101 938.5,-101 938.5,-95 944.5,-89 950.5,-89 950.5,-89 1036.5,-89 1036.5,-89 1042.5,-89 1048.5,-95 1048.5,-101 1048.5,-101 1048.5,-145 1048.5,-145 1048.5,-151 1042.5,-157 1036.5,-157\"/>\n<text text-anchor=\"middle\" x=\"993.5\" y=\"-141.8\" font-family=\"Helvetica,sans-Serif\" font-size=\"14.00\">X[18] &lt;= 0.5</text>\n<text text-anchor=\"middle\" x=\"993.5\" y=\"-126.8\" font-family=\"Helvetica,sans-Serif\" font-size=\"14.00\">gini = 0.497</text>\n<text text-anchor=\"middle\" x=\"993.5\" y=\"-111.8\" font-family=\"Helvetica,sans-Serif\" font-size=\"14.00\">samples = 54</text>\n<text text-anchor=\"middle\" x=\"993.5\" y=\"-96.8\" font-family=\"Helvetica,sans-Serif\" font-size=\"14.00\">value = [25, 29]</text>\n</g>\n<!-- 19&#45;&gt;20 -->\n<g id=\"edge20\" class=\"edge\">\n<title>19&#45;&gt;20</title>\n<path fill=\"none\" stroke=\"black\" d=\"M993.5,-192.88C993.5,-184.78 993.5,-175.98 993.5,-167.47\"/>\n<polygon fill=\"black\" stroke=\"black\" points=\"997,-167.3 993.5,-157.3 990,-167.3 997,-167.3\"/>\n</g>\n<!-- 23 -->\n<g id=\"node24\" class=\"node\">\n<title>23</title>\n<path fill=\"#e58139\" stroke=\"black\" d=\"M1150,-149.5C1150,-149.5 1079,-149.5 1079,-149.5 1073,-149.5 1067,-143.5 1067,-137.5 1067,-137.5 1067,-108.5 1067,-108.5 1067,-102.5 1073,-96.5 1079,-96.5 1079,-96.5 1150,-96.5 1150,-96.5 1156,-96.5 1162,-102.5 1162,-108.5 1162,-108.5 1162,-137.5 1162,-137.5 1162,-143.5 1156,-149.5 1150,-149.5\"/>\n<text text-anchor=\"middle\" x=\"1114.5\" y=\"-134.3\" font-family=\"Helvetica,sans-Serif\" font-size=\"14.00\">gini = 0.0</text>\n<text text-anchor=\"middle\" x=\"1114.5\" y=\"-119.3\" font-family=\"Helvetica,sans-Serif\" font-size=\"14.00\">samples = 3</text>\n<text text-anchor=\"middle\" x=\"1114.5\" y=\"-104.3\" font-family=\"Helvetica,sans-Serif\" font-size=\"14.00\">value = [3, 0]</text>\n</g>\n<!-- 19&#45;&gt;23 -->\n<g id=\"edge23\" class=\"edge\">\n<title>19&#45;&gt;23</title>\n<path fill=\"none\" stroke=\"black\" d=\"M1032.79,-192.88C1046.74,-181.12 1062.43,-167.89 1076.3,-156.2\"/>\n<polygon fill=\"black\" stroke=\"black\" points=\"1078.84,-158.64 1084.23,-149.52 1074.32,-153.29 1078.84,-158.64\"/>\n</g>\n<!-- 21 -->\n<g id=\"node22\" class=\"node\">\n<title>21</title>\n<path fill=\"#81c1ee\" stroke=\"black\" d=\"M1032,-53C1032,-53 955,-53 955,-53 949,-53 943,-47 943,-41 943,-41 943,-12 943,-12 943,-6 949,0 955,0 955,0 1032,0 1032,0 1038,0 1044,-6 1044,-12 1044,-12 1044,-41 1044,-41 1044,-47 1038,-53 1032,-53\"/>\n<text text-anchor=\"middle\" x=\"993.5\" y=\"-37.8\" font-family=\"Helvetica,sans-Serif\" font-size=\"14.00\">gini = 0.391</text>\n<text text-anchor=\"middle\" x=\"993.5\" y=\"-22.8\" font-family=\"Helvetica,sans-Serif\" font-size=\"14.00\">samples = 15</text>\n<text text-anchor=\"middle\" x=\"993.5\" y=\"-7.8\" font-family=\"Helvetica,sans-Serif\" font-size=\"14.00\">value = [4, 11]</text>\n</g>\n<!-- 20&#45;&gt;21 -->\n<g id=\"edge21\" class=\"edge\">\n<title>20&#45;&gt;21</title>\n<path fill=\"none\" stroke=\"black\" d=\"M993.5,-88.95C993.5,-80.72 993.5,-71.85 993.5,-63.48\"/>\n<polygon fill=\"black\" stroke=\"black\" points=\"997,-63.24 993.5,-53.24 990,-63.24 997,-63.24\"/>\n</g>\n<!-- 22 -->\n<g id=\"node23\" class=\"node\">\n<title>22</title>\n<path fill=\"#fbede3\" stroke=\"black\" d=\"M1160.5,-53C1160.5,-53 1074.5,-53 1074.5,-53 1068.5,-53 1062.5,-47 1062.5,-41 1062.5,-41 1062.5,-12 1062.5,-12 1062.5,-6 1068.5,0 1074.5,0 1074.5,0 1160.5,0 1160.5,0 1166.5,0 1172.5,-6 1172.5,-12 1172.5,-12 1172.5,-41 1172.5,-41 1172.5,-47 1166.5,-53 1160.5,-53\"/>\n<text text-anchor=\"middle\" x=\"1117.5\" y=\"-37.8\" font-family=\"Helvetica,sans-Serif\" font-size=\"14.00\">gini = 0.497</text>\n<text text-anchor=\"middle\" x=\"1117.5\" y=\"-22.8\" font-family=\"Helvetica,sans-Serif\" font-size=\"14.00\">samples = 39</text>\n<text text-anchor=\"middle\" x=\"1117.5\" y=\"-7.8\" font-family=\"Helvetica,sans-Serif\" font-size=\"14.00\">value = [21, 18]</text>\n</g>\n<!-- 20&#45;&gt;22 -->\n<g id=\"edge22\" class=\"edge\">\n<title>20&#45;&gt;22</title>\n<path fill=\"none\" stroke=\"black\" d=\"M1036.87,-88.95C1049.47,-79.34 1063.21,-68.87 1075.71,-59.34\"/>\n<polygon fill=\"black\" stroke=\"black\" points=\"1077.9,-62.08 1083.73,-53.24 1073.65,-56.51 1077.9,-62.08\"/>\n</g>\n<!-- 25 -->\n<g id=\"node26\" class=\"node\">\n<title>25</title>\n<path fill=\"#eba06a\" stroke=\"black\" d=\"M1486,-365C1486,-365 1393,-365 1393,-365 1387,-365 1381,-359 1381,-353 1381,-353 1381,-309 1381,-309 1381,-303 1387,-297 1393,-297 1393,-297 1486,-297 1486,-297 1492,-297 1498,-303 1498,-309 1498,-309 1498,-353 1498,-353 1498,-359 1492,-365 1486,-365\"/>\n<text text-anchor=\"middle\" x=\"1439.5\" y=\"-349.8\" font-family=\"Helvetica,sans-Serif\" font-size=\"14.00\">X[11] &lt;= 0.5</text>\n<text text-anchor=\"middle\" x=\"1439.5\" y=\"-334.8\" font-family=\"Helvetica,sans-Serif\" font-size=\"14.00\">gini = 0.317</text>\n<text text-anchor=\"middle\" x=\"1439.5\" y=\"-319.8\" font-family=\"Helvetica,sans-Serif\" font-size=\"14.00\">samples = 380</text>\n<text text-anchor=\"middle\" x=\"1439.5\" y=\"-304.8\" font-family=\"Helvetica,sans-Serif\" font-size=\"14.00\">value = [305, 75]</text>\n</g>\n<!-- 24&#45;&gt;25 -->\n<g id=\"edge25\" class=\"edge\">\n<title>24&#45;&gt;25</title>\n<path fill=\"none\" stroke=\"black\" d=\"M1439.5,-400.88C1439.5,-392.78 1439.5,-383.98 1439.5,-375.47\"/>\n<polygon fill=\"black\" stroke=\"black\" points=\"1443,-375.3 1439.5,-365.3 1436,-375.3 1443,-375.3\"/>\n</g>\n<!-- 40 -->\n<g id=\"node41\" class=\"node\">\n<title>40</title>\n<path fill=\"#399de5\" stroke=\"black\" d=\"M1599,-357.5C1599,-357.5 1528,-357.5 1528,-357.5 1522,-357.5 1516,-351.5 1516,-345.5 1516,-345.5 1516,-316.5 1516,-316.5 1516,-310.5 1522,-304.5 1528,-304.5 1528,-304.5 1599,-304.5 1599,-304.5 1605,-304.5 1611,-310.5 1611,-316.5 1611,-316.5 1611,-345.5 1611,-345.5 1611,-351.5 1605,-357.5 1599,-357.5\"/>\n<text text-anchor=\"middle\" x=\"1563.5\" y=\"-342.3\" font-family=\"Helvetica,sans-Serif\" font-size=\"14.00\">gini = 0.0</text>\n<text text-anchor=\"middle\" x=\"1563.5\" y=\"-327.3\" font-family=\"Helvetica,sans-Serif\" font-size=\"14.00\">samples = 3</text>\n<text text-anchor=\"middle\" x=\"1563.5\" y=\"-312.3\" font-family=\"Helvetica,sans-Serif\" font-size=\"14.00\">value = [0, 3]</text>\n</g>\n<!-- 24&#45;&gt;40 -->\n<g id=\"edge40\" class=\"edge\">\n<title>24&#45;&gt;40</title>\n<path fill=\"none\" stroke=\"black\" d=\"M1479.76,-400.88C1494.2,-389.01 1510.44,-375.65 1524.75,-363.88\"/>\n<polygon fill=\"black\" stroke=\"black\" points=\"1526.98,-366.58 1532.48,-357.52 1522.53,-361.17 1526.98,-366.58\"/>\n</g>\n<!-- 26 -->\n<g id=\"node27\" class=\"node\">\n<title>26</title>\n<path fill=\"#ea985c\" stroke=\"black\" d=\"M1486,-261C1486,-261 1393,-261 1393,-261 1387,-261 1381,-255 1381,-249 1381,-249 1381,-205 1381,-205 1381,-199 1387,-193 1393,-193 1393,-193 1486,-193 1486,-193 1492,-193 1498,-199 1498,-205 1498,-205 1498,-249 1498,-249 1498,-255 1492,-261 1486,-261\"/>\n<text text-anchor=\"middle\" x=\"1439.5\" y=\"-245.8\" font-family=\"Helvetica,sans-Serif\" font-size=\"14.00\">X[24] &lt;= 3.5</text>\n<text text-anchor=\"middle\" x=\"1439.5\" y=\"-230.8\" font-family=\"Helvetica,sans-Serif\" font-size=\"14.00\">gini = 0.258</text>\n<text text-anchor=\"middle\" x=\"1439.5\" y=\"-215.8\" font-family=\"Helvetica,sans-Serif\" font-size=\"14.00\">samples = 270</text>\n<text text-anchor=\"middle\" x=\"1439.5\" y=\"-200.8\" font-family=\"Helvetica,sans-Serif\" font-size=\"14.00\">value = [229, 41]</text>\n</g>\n<!-- 25&#45;&gt;26 -->\n<g id=\"edge26\" class=\"edge\">\n<title>25&#45;&gt;26</title>\n<path fill=\"none\" stroke=\"black\" d=\"M1439.5,-296.88C1439.5,-288.78 1439.5,-279.98 1439.5,-271.47\"/>\n<polygon fill=\"black\" stroke=\"black\" points=\"1443,-271.3 1439.5,-261.3 1436,-271.3 1443,-271.3\"/>\n</g>\n<!-- 33 -->\n<g id=\"node34\" class=\"node\">\n<title>33</title>\n<path fill=\"#f1b992\" stroke=\"black\" d=\"M1844.5,-261C1844.5,-261 1758.5,-261 1758.5,-261 1752.5,-261 1746.5,-255 1746.5,-249 1746.5,-249 1746.5,-205 1746.5,-205 1746.5,-199 1752.5,-193 1758.5,-193 1758.5,-193 1844.5,-193 1844.5,-193 1850.5,-193 1856.5,-199 1856.5,-205 1856.5,-205 1856.5,-249 1856.5,-249 1856.5,-255 1850.5,-261 1844.5,-261\"/>\n<text text-anchor=\"middle\" x=\"1801.5\" y=\"-245.8\" font-family=\"Helvetica,sans-Serif\" font-size=\"14.00\">X[26] &lt;= 4.5</text>\n<text text-anchor=\"middle\" x=\"1801.5\" y=\"-230.8\" font-family=\"Helvetica,sans-Serif\" font-size=\"14.00\">gini = 0.427</text>\n<text text-anchor=\"middle\" x=\"1801.5\" y=\"-215.8\" font-family=\"Helvetica,sans-Serif\" font-size=\"14.00\">samples = 110</text>\n<text text-anchor=\"middle\" x=\"1801.5\" y=\"-200.8\" font-family=\"Helvetica,sans-Serif\" font-size=\"14.00\">value = [76, 34]</text>\n</g>\n<!-- 25&#45;&gt;33 -->\n<g id=\"edge33\" class=\"edge\">\n<title>25&#45;&gt;33</title>\n<path fill=\"none\" stroke=\"black\" d=\"M1498.37,-300.1C1501.1,-299 1503.81,-297.96 1506.5,-297 1583.39,-269.48 1675.53,-249.96 1736.13,-238.86\"/>\n<polygon fill=\"black\" stroke=\"black\" points=\"1737.11,-242.24 1746.33,-237.02 1735.86,-235.35 1737.11,-242.24\"/>\n</g>\n<!-- 27 -->\n<g id=\"node28\" class=\"node\">\n<title>27</title>\n<path fill=\"#e89253\" stroke=\"black\" d=\"M1420,-157C1420,-157 1327,-157 1327,-157 1321,-157 1315,-151 1315,-145 1315,-145 1315,-101 1315,-101 1315,-95 1321,-89 1327,-89 1327,-89 1420,-89 1420,-89 1426,-89 1432,-95 1432,-101 1432,-101 1432,-145 1432,-145 1432,-151 1426,-157 1420,-157\"/>\n<text text-anchor=\"middle\" x=\"1373.5\" y=\"-141.8\" font-family=\"Helvetica,sans-Serif\" font-size=\"14.00\">X[23] &lt;= 4.5</text>\n<text text-anchor=\"middle\" x=\"1373.5\" y=\"-126.8\" font-family=\"Helvetica,sans-Serif\" font-size=\"14.00\">gini = 0.205</text>\n<text text-anchor=\"middle\" x=\"1373.5\" y=\"-111.8\" font-family=\"Helvetica,sans-Serif\" font-size=\"14.00\">samples = 190</text>\n<text text-anchor=\"middle\" x=\"1373.5\" y=\"-96.8\" font-family=\"Helvetica,sans-Serif\" font-size=\"14.00\">value = [168, 22]</text>\n</g>\n<!-- 26&#45;&gt;27 -->\n<g id=\"edge27\" class=\"edge\">\n<title>26&#45;&gt;27</title>\n<path fill=\"none\" stroke=\"black\" d=\"M1418.07,-192.88C1412.48,-184.24 1406.38,-174.82 1400.54,-165.79\"/>\n<polygon fill=\"black\" stroke=\"black\" points=\"1403.42,-163.79 1395.05,-157.3 1397.54,-167.6 1403.42,-163.79\"/>\n</g>\n<!-- 30 -->\n<g id=\"node31\" class=\"node\">\n<title>30</title>\n<path fill=\"#eda877\" stroke=\"black\" d=\"M1548.5,-157C1548.5,-157 1462.5,-157 1462.5,-157 1456.5,-157 1450.5,-151 1450.5,-145 1450.5,-145 1450.5,-101 1450.5,-101 1450.5,-95 1456.5,-89 1462.5,-89 1462.5,-89 1548.5,-89 1548.5,-89 1554.5,-89 1560.5,-95 1560.5,-101 1560.5,-101 1560.5,-145 1560.5,-145 1560.5,-151 1554.5,-157 1548.5,-157\"/>\n<text text-anchor=\"middle\" x=\"1505.5\" y=\"-141.8\" font-family=\"Helvetica,sans-Serif\" font-size=\"14.00\">X[25] &lt;= 4.5</text>\n<text text-anchor=\"middle\" x=\"1505.5\" y=\"-126.8\" font-family=\"Helvetica,sans-Serif\" font-size=\"14.00\">gini = 0.362</text>\n<text text-anchor=\"middle\" x=\"1505.5\" y=\"-111.8\" font-family=\"Helvetica,sans-Serif\" font-size=\"14.00\">samples = 80</text>\n<text text-anchor=\"middle\" x=\"1505.5\" y=\"-96.8\" font-family=\"Helvetica,sans-Serif\" font-size=\"14.00\">value = [61, 19]</text>\n</g>\n<!-- 26&#45;&gt;30 -->\n<g id=\"edge30\" class=\"edge\">\n<title>26&#45;&gt;30</title>\n<path fill=\"none\" stroke=\"black\" d=\"M1460.93,-192.88C1466.52,-184.24 1472.62,-174.82 1478.46,-165.79\"/>\n<polygon fill=\"black\" stroke=\"black\" points=\"1481.46,-167.6 1483.95,-157.3 1475.58,-163.79 1481.46,-167.6\"/>\n</g>\n<!-- 28 -->\n<g id=\"node29\" class=\"node\">\n<title>28</title>\n<path fill=\"#ea975c\" stroke=\"black\" d=\"M1296,-53C1296,-53 1203,-53 1203,-53 1197,-53 1191,-47 1191,-41 1191,-41 1191,-12 1191,-12 1191,-6 1197,0 1203,0 1203,0 1296,0 1296,0 1302,0 1308,-6 1308,-12 1308,-12 1308,-41 1308,-41 1308,-47 1302,-53 1296,-53\"/>\n<text text-anchor=\"middle\" x=\"1249.5\" y=\"-37.8\" font-family=\"Helvetica,sans-Serif\" font-size=\"14.00\">gini = 0.254</text>\n<text text-anchor=\"middle\" x=\"1249.5\" y=\"-22.8\" font-family=\"Helvetica,sans-Serif\" font-size=\"14.00\">samples = 141</text>\n<text text-anchor=\"middle\" x=\"1249.5\" y=\"-7.8\" font-family=\"Helvetica,sans-Serif\" font-size=\"14.00\">value = [120, 21]</text>\n</g>\n<!-- 27&#45;&gt;28 -->\n<g id=\"edge28\" class=\"edge\">\n<title>27&#45;&gt;28</title>\n<path fill=\"none\" stroke=\"black\" d=\"M1330.13,-88.95C1317.53,-79.34 1303.79,-68.87 1291.29,-59.34\"/>\n<polygon fill=\"black\" stroke=\"black\" points=\"1293.35,-56.51 1283.27,-53.24 1289.1,-62.08 1293.35,-56.51\"/>\n</g>\n<!-- 29 -->\n<g id=\"node30\" class=\"node\">\n<title>29</title>\n<path fill=\"#e6843d\" stroke=\"black\" d=\"M1416.5,-53C1416.5,-53 1338.5,-53 1338.5,-53 1332.5,-53 1326.5,-47 1326.5,-41 1326.5,-41 1326.5,-12 1326.5,-12 1326.5,-6 1332.5,0 1338.5,0 1338.5,0 1416.5,0 1416.5,0 1422.5,0 1428.5,-6 1428.5,-12 1428.5,-12 1428.5,-41 1428.5,-41 1428.5,-47 1422.5,-53 1416.5,-53\"/>\n<text text-anchor=\"middle\" x=\"1377.5\" y=\"-37.8\" font-family=\"Helvetica,sans-Serif\" font-size=\"14.00\">gini = 0.04</text>\n<text text-anchor=\"middle\" x=\"1377.5\" y=\"-22.8\" font-family=\"Helvetica,sans-Serif\" font-size=\"14.00\">samples = 49</text>\n<text text-anchor=\"middle\" x=\"1377.5\" y=\"-7.8\" font-family=\"Helvetica,sans-Serif\" font-size=\"14.00\">value = [48, 1]</text>\n</g>\n<!-- 27&#45;&gt;29 -->\n<g id=\"edge29\" class=\"edge\">\n<title>27&#45;&gt;29</title>\n<path fill=\"none\" stroke=\"black\" d=\"M1374.9,-88.95C1375.25,-80.72 1375.62,-71.85 1375.98,-63.48\"/>\n<polygon fill=\"black\" stroke=\"black\" points=\"1379.48,-63.38 1376.41,-53.24 1372.49,-63.08 1379.48,-63.38\"/>\n</g>\n<!-- 31 -->\n<g id=\"node32\" class=\"node\">\n<title>31</title>\n<path fill=\"#f0b890\" stroke=\"black\" d=\"M1544.5,-53C1544.5,-53 1458.5,-53 1458.5,-53 1452.5,-53 1446.5,-47 1446.5,-41 1446.5,-41 1446.5,-12 1446.5,-12 1446.5,-6 1452.5,0 1458.5,0 1458.5,0 1544.5,0 1544.5,0 1550.5,0 1556.5,-6 1556.5,-12 1556.5,-12 1556.5,-41 1556.5,-41 1556.5,-47 1550.5,-53 1544.5,-53\"/>\n<text text-anchor=\"middle\" x=\"1501.5\" y=\"-37.8\" font-family=\"Helvetica,sans-Serif\" font-size=\"14.00\">gini = 0.424</text>\n<text text-anchor=\"middle\" x=\"1501.5\" y=\"-22.8\" font-family=\"Helvetica,sans-Serif\" font-size=\"14.00\">samples = 59</text>\n<text text-anchor=\"middle\" x=\"1501.5\" y=\"-7.8\" font-family=\"Helvetica,sans-Serif\" font-size=\"14.00\">value = [41, 18]</text>\n</g>\n<!-- 30&#45;&gt;31 -->\n<g id=\"edge31\" class=\"edge\">\n<title>30&#45;&gt;31</title>\n<path fill=\"none\" stroke=\"black\" d=\"M1504.1,-88.95C1503.75,-80.72 1503.38,-71.85 1503.02,-63.48\"/>\n<polygon fill=\"black\" stroke=\"black\" points=\"1506.51,-63.08 1502.59,-53.24 1499.52,-63.38 1506.51,-63.08\"/>\n</g>\n<!-- 32 -->\n<g id=\"node33\" class=\"node\">\n<title>32</title>\n<path fill=\"#e68743\" stroke=\"black\" d=\"M1664.5,-53C1664.5,-53 1586.5,-53 1586.5,-53 1580.5,-53 1574.5,-47 1574.5,-41 1574.5,-41 1574.5,-12 1574.5,-12 1574.5,-6 1580.5,0 1586.5,0 1586.5,0 1664.5,0 1664.5,0 1670.5,0 1676.5,-6 1676.5,-12 1676.5,-12 1676.5,-41 1676.5,-41 1676.5,-47 1670.5,-53 1664.5,-53\"/>\n<text text-anchor=\"middle\" x=\"1625.5\" y=\"-37.8\" font-family=\"Helvetica,sans-Serif\" font-size=\"14.00\">gini = 0.091</text>\n<text text-anchor=\"middle\" x=\"1625.5\" y=\"-22.8\" font-family=\"Helvetica,sans-Serif\" font-size=\"14.00\">samples = 21</text>\n<text text-anchor=\"middle\" x=\"1625.5\" y=\"-7.8\" font-family=\"Helvetica,sans-Serif\" font-size=\"14.00\">value = [20, 1]</text>\n</g>\n<!-- 30&#45;&gt;32 -->\n<g id=\"edge32\" class=\"edge\">\n<title>30&#45;&gt;32</title>\n<path fill=\"none\" stroke=\"black\" d=\"M1547.47,-88.95C1559.55,-79.43 1572.71,-69.07 1584.72,-59.62\"/>\n<polygon fill=\"black\" stroke=\"black\" points=\"1587.13,-62.17 1592.82,-53.24 1582.8,-56.67 1587.13,-62.17\"/>\n</g>\n<!-- 34 -->\n<g id=\"node35\" class=\"node\">\n<title>34</title>\n<path fill=\"#eda674\" stroke=\"black\" d=\"M1844.5,-157C1844.5,-157 1758.5,-157 1758.5,-157 1752.5,-157 1746.5,-151 1746.5,-145 1746.5,-145 1746.5,-101 1746.5,-101 1746.5,-95 1752.5,-89 1758.5,-89 1758.5,-89 1844.5,-89 1844.5,-89 1850.5,-89 1856.5,-95 1856.5,-101 1856.5,-101 1856.5,-145 1856.5,-145 1856.5,-151 1850.5,-157 1844.5,-157\"/>\n<text text-anchor=\"middle\" x=\"1801.5\" y=\"-141.8\" font-family=\"Helvetica,sans-Serif\" font-size=\"14.00\">X[7] &lt;= 1.5</text>\n<text text-anchor=\"middle\" x=\"1801.5\" y=\"-126.8\" font-family=\"Helvetica,sans-Serif\" font-size=\"14.00\">gini = 0.353</text>\n<text text-anchor=\"middle\" x=\"1801.5\" y=\"-111.8\" font-family=\"Helvetica,sans-Serif\" font-size=\"14.00\">samples = 70</text>\n<text text-anchor=\"middle\" x=\"1801.5\" y=\"-96.8\" font-family=\"Helvetica,sans-Serif\" font-size=\"14.00\">value = [54, 16]</text>\n</g>\n<!-- 33&#45;&gt;34 -->\n<g id=\"edge34\" class=\"edge\">\n<title>33&#45;&gt;34</title>\n<path fill=\"none\" stroke=\"black\" d=\"M1801.5,-192.88C1801.5,-184.78 1801.5,-175.98 1801.5,-167.47\"/>\n<polygon fill=\"black\" stroke=\"black\" points=\"1805,-167.3 1801.5,-157.3 1798,-167.3 1805,-167.3\"/>\n</g>\n<!-- 37 -->\n<g id=\"node38\" class=\"node\">\n<title>37</title>\n<path fill=\"#fae8db\" stroke=\"black\" d=\"M2028.5,-157C2028.5,-157 1942.5,-157 1942.5,-157 1936.5,-157 1930.5,-151 1930.5,-145 1930.5,-145 1930.5,-101 1930.5,-101 1930.5,-95 1936.5,-89 1942.5,-89 1942.5,-89 2028.5,-89 2028.5,-89 2034.5,-89 2040.5,-95 2040.5,-101 2040.5,-101 2040.5,-145 2040.5,-145 2040.5,-151 2034.5,-157 2028.5,-157\"/>\n<text text-anchor=\"middle\" x=\"1985.5\" y=\"-141.8\" font-family=\"Helvetica,sans-Serif\" font-size=\"14.00\">X[25] &lt;= 2.5</text>\n<text text-anchor=\"middle\" x=\"1985.5\" y=\"-126.8\" font-family=\"Helvetica,sans-Serif\" font-size=\"14.00\">gini = 0.495</text>\n<text text-anchor=\"middle\" x=\"1985.5\" y=\"-111.8\" font-family=\"Helvetica,sans-Serif\" font-size=\"14.00\">samples = 40</text>\n<text text-anchor=\"middle\" x=\"1985.5\" y=\"-96.8\" font-family=\"Helvetica,sans-Serif\" font-size=\"14.00\">value = [22, 18]</text>\n</g>\n<!-- 33&#45;&gt;37 -->\n<g id=\"edge37\" class=\"edge\">\n<title>33&#45;&gt;37</title>\n<path fill=\"none\" stroke=\"black\" d=\"M1856.71,-195.4C1877.08,-184.1 1900.34,-171.21 1921.44,-159.51\"/>\n<polygon fill=\"black\" stroke=\"black\" points=\"1923.28,-162.49 1930.33,-154.58 1919.89,-156.37 1923.28,-162.49\"/>\n</g>\n<!-- 35 -->\n<g id=\"node36\" class=\"node\">\n<title>35</title>\n<path fill=\"#f4c8a8\" stroke=\"black\" d=\"M1784.5,-53C1784.5,-53 1706.5,-53 1706.5,-53 1700.5,-53 1694.5,-47 1694.5,-41 1694.5,-41 1694.5,-12 1694.5,-12 1694.5,-6 1700.5,0 1706.5,0 1706.5,0 1784.5,0 1784.5,0 1790.5,0 1796.5,-6 1796.5,-12 1796.5,-12 1796.5,-41 1796.5,-41 1796.5,-47 1790.5,-53 1784.5,-53\"/>\n<text text-anchor=\"middle\" x=\"1745.5\" y=\"-37.8\" font-family=\"Helvetica,sans-Serif\" font-size=\"14.00\">gini = 0.461</text>\n<text text-anchor=\"middle\" x=\"1745.5\" y=\"-22.8\" font-family=\"Helvetica,sans-Serif\" font-size=\"14.00\">samples = 25</text>\n<text text-anchor=\"middle\" x=\"1745.5\" y=\"-7.8\" font-family=\"Helvetica,sans-Serif\" font-size=\"14.00\">value = [16, 9]</text>\n</g>\n<!-- 34&#45;&gt;35 -->\n<g id=\"edge35\" class=\"edge\">\n<title>34&#45;&gt;35</title>\n<path fill=\"none\" stroke=\"black\" d=\"M1781.91,-88.95C1776.76,-80.26 1771.2,-70.86 1766,-62.09\"/>\n<polygon fill=\"black\" stroke=\"black\" points=\"1768.86,-60.06 1760.75,-53.24 1762.84,-63.62 1768.86,-60.06\"/>\n</g>\n<!-- 36 -->\n<g id=\"node37\" class=\"node\">\n<title>36</title>\n<path fill=\"#ea985d\" stroke=\"black\" d=\"M1904.5,-53C1904.5,-53 1826.5,-53 1826.5,-53 1820.5,-53 1814.5,-47 1814.5,-41 1814.5,-41 1814.5,-12 1814.5,-12 1814.5,-6 1820.5,0 1826.5,0 1826.5,0 1904.5,0 1904.5,0 1910.5,0 1916.5,-6 1916.5,-12 1916.5,-12 1916.5,-41 1916.5,-41 1916.5,-47 1910.5,-53 1904.5,-53\"/>\n<text text-anchor=\"middle\" x=\"1865.5\" y=\"-37.8\" font-family=\"Helvetica,sans-Serif\" font-size=\"14.00\">gini = 0.263</text>\n<text text-anchor=\"middle\" x=\"1865.5\" y=\"-22.8\" font-family=\"Helvetica,sans-Serif\" font-size=\"14.00\">samples = 45</text>\n<text text-anchor=\"middle\" x=\"1865.5\" y=\"-7.8\" font-family=\"Helvetica,sans-Serif\" font-size=\"14.00\">value = [38, 7]</text>\n</g>\n<!-- 34&#45;&gt;36 -->\n<g id=\"edge36\" class=\"edge\">\n<title>34&#45;&gt;36</title>\n<path fill=\"none\" stroke=\"black\" d=\"M1823.88,-88.95C1829.89,-80.07 1836.4,-70.46 1842.45,-61.54\"/>\n<polygon fill=\"black\" stroke=\"black\" points=\"1845.36,-63.48 1848.07,-53.24 1839.56,-59.55 1845.36,-63.48\"/>\n</g>\n<!-- 38 -->\n<g id=\"node39\" class=\"node\">\n<title>38</title>\n<path fill=\"#eca36f\" stroke=\"black\" d=\"M2024,-53C2024,-53 1947,-53 1947,-53 1941,-53 1935,-47 1935,-41 1935,-41 1935,-12 1935,-12 1935,-6 1941,0 1947,0 1947,0 2024,0 2024,0 2030,0 2036,-6 2036,-12 2036,-12 2036,-41 2036,-41 2036,-47 2030,-53 2024,-53\"/>\n<text text-anchor=\"middle\" x=\"1985.5\" y=\"-37.8\" font-family=\"Helvetica,sans-Serif\" font-size=\"14.00\">gini = 0.337</text>\n<text text-anchor=\"middle\" x=\"1985.5\" y=\"-22.8\" font-family=\"Helvetica,sans-Serif\" font-size=\"14.00\">samples = 14</text>\n<text text-anchor=\"middle\" x=\"1985.5\" y=\"-7.8\" font-family=\"Helvetica,sans-Serif\" font-size=\"14.00\">value = [11, 3]</text>\n</g>\n<!-- 37&#45;&gt;38 -->\n<g id=\"edge38\" class=\"edge\">\n<title>37&#45;&gt;38</title>\n<path fill=\"none\" stroke=\"black\" d=\"M1985.5,-88.95C1985.5,-80.72 1985.5,-71.85 1985.5,-63.48\"/>\n<polygon fill=\"black\" stroke=\"black\" points=\"1989,-63.24 1985.5,-53.24 1982,-63.24 1989,-63.24\"/>\n</g>\n<!-- 39 -->\n<g id=\"node40\" class=\"node\">\n<title>39</title>\n<path fill=\"#cae5f8\" stroke=\"black\" d=\"M2151,-53C2151,-53 2066,-53 2066,-53 2060,-53 2054,-47 2054,-41 2054,-41 2054,-12 2054,-12 2054,-6 2060,0 2066,0 2066,0 2151,0 2151,0 2157,0 2163,-6 2163,-12 2163,-12 2163,-41 2163,-41 2163,-47 2157,-53 2151,-53\"/>\n<text text-anchor=\"middle\" x=\"2108.5\" y=\"-37.8\" font-family=\"Helvetica,sans-Serif\" font-size=\"14.00\">gini = 0.488</text>\n<text text-anchor=\"middle\" x=\"2108.5\" y=\"-22.8\" font-family=\"Helvetica,sans-Serif\" font-size=\"14.00\">samples = 26</text>\n<text text-anchor=\"middle\" x=\"2108.5\" y=\"-7.8\" font-family=\"Helvetica,sans-Serif\" font-size=\"14.00\">value = [11, 15]</text>\n</g>\n<!-- 37&#45;&gt;39 -->\n<g id=\"edge39\" class=\"edge\">\n<title>37&#45;&gt;39</title>\n<path fill=\"none\" stroke=\"black\" d=\"M2028.52,-88.95C2041.02,-79.34 2054.65,-68.87 2067.05,-59.34\"/>\n<polygon fill=\"black\" stroke=\"black\" points=\"2069.2,-62.1 2075,-53.24 2064.94,-56.55 2069.2,-62.1\"/>\n</g>\n</g>\n</svg>\n",
      "text/plain": [
       "<graphviz.sources.Source at 0x1f6405fea00>"
      ]
     },
     "execution_count": 71,
     "metadata": {},
     "output_type": "execute_result"
    }
   ],
   "source": [
    "dot_data = tree.export_graphviz(clf, out_file=None, filled=True, rounded=True) \n",
    "graph = graphviz.Source(dot_data) \n",
    "graph"
   ]
  },
  {
   "cell_type": "code",
   "execution_count": 72,
   "metadata": {},
   "outputs": [],
   "source": [
    "clf = tree.DecisionTreeRegressor()\n",
    "clf = clf.fit(X, y)"
   ]
  },
  {
   "cell_type": "code",
   "execution_count": 73,
   "metadata": {},
   "outputs": [
    {
     "data": {
      "text/plain": [
       "[Text(0.5107588523890785, 0.96875, 'X[1] <= 0.5\\nsquared_error = 0.212\\nsamples = 649\\nvalue = 0.305'),\n",
       " Text(0.21469709897610922, 0.90625, 'X[25] <= 3.5\\nsquared_error = 0.248\\nsamples = 266\\nvalue = 0.451'),\n",
       " Text(0.10132252559726962, 0.84375, 'X[27] <= 11.5\\nsquared_error = 0.221\\nsamples = 158\\nvalue = 0.329'),\n",
       " Text(0.09449658703071673, 0.78125, 'X[0] <= 0.5\\nsquared_error = 0.211\\nsamples = 152\\nvalue = 0.303'),\n",
       " Text(0.030716723549488054, 0.71875, 'X[24] <= 1.5\\nsquared_error = 0.25\\nsamples = 43\\nvalue = 0.512'),\n",
       " Text(0.013651877133105802, 0.65625, 'X[27] <= 3.0\\nsquared_error = 0.109\\nsamples = 8\\nvalue = 0.875'),\n",
       " Text(0.006825938566552901, 0.59375, 'squared_error = 0.0\\nsamples = 7\\nvalue = 1.0'),\n",
       " Text(0.020477815699658702, 0.59375, 'squared_error = 0.0\\nsamples = 1\\nvalue = 0.0'),\n",
       " Text(0.04778156996587031, 0.65625, 'X[20] <= 0.5\\nsquared_error = 0.245\\nsamples = 35\\nvalue = 0.429'),\n",
       " Text(0.034129692832764506, 0.59375, 'X[14] <= 2.5\\nsquared_error = 0.109\\nsamples = 8\\nvalue = 0.875'),\n",
       " Text(0.027303754266211604, 0.53125, 'squared_error = 0.0\\nsamples = 7\\nvalue = 1.0'),\n",
       " Text(0.040955631399317405, 0.53125, 'squared_error = 0.0\\nsamples = 1\\nvalue = 0.0'),\n",
       " Text(0.06143344709897611, 0.59375, 'X[23] <= 2.5\\nsquared_error = 0.209\\nsamples = 27\\nvalue = 0.296'),\n",
       " Text(0.05460750853242321, 0.53125, 'squared_error = 0.0\\nsamples = 2\\nvalue = 1.0'),\n",
       " Text(0.06825938566552901, 0.53125, 'X[17] <= 0.5\\nsquared_error = 0.182\\nsamples = 25\\nvalue = 0.24'),\n",
       " Text(0.06143344709897611, 0.46875, 'X[8] <= 3.5\\nsquared_error = 0.144\\nsamples = 23\\nvalue = 0.174'),\n",
       " Text(0.05460750853242321, 0.40625, 'X[8] <= 1.5\\nsquared_error = 0.213\\nsamples = 13\\nvalue = 0.308'),\n",
       " Text(0.04778156996587031, 0.34375, 'squared_error = 0.0\\nsamples = 8\\nvalue = 0.0'),\n",
       " Text(0.06143344709897611, 0.34375, 'X[5] <= 0.5\\nsquared_error = 0.16\\nsamples = 5\\nvalue = 0.8'),\n",
       " Text(0.05460750853242321, 0.28125, 'squared_error = 0.0\\nsamples = 1\\nvalue = 0.0'),\n",
       " Text(0.06825938566552901, 0.28125, 'squared_error = 0.0\\nsamples = 4\\nvalue = 1.0'),\n",
       " Text(0.06825938566552901, 0.40625, 'squared_error = 0.0\\nsamples = 10\\nvalue = 0.0'),\n",
       " Text(0.07508532423208192, 0.46875, 'squared_error = 0.0\\nsamples = 2\\nvalue = 1.0'),\n",
       " Text(0.1582764505119454, 0.71875, 'X[23] <= 1.5\\nsquared_error = 0.172\\nsamples = 109\\nvalue = 0.22'),\n",
       " Text(0.1514505119453925, 0.65625, 'squared_error = 0.0\\nsamples = 2\\nvalue = 1.0'),\n",
       " Text(0.1651023890784983, 0.65625, 'X[23] <= 4.5\\nsquared_error = 0.163\\nsamples = 107\\nvalue = 0.206'),\n",
       " Text(0.128839590443686, 0.59375, 'X[17] <= 0.5\\nsquared_error = 0.198\\nsamples = 70\\nvalue = 0.271'),\n",
       " Text(0.11518771331058021, 0.53125, 'X[6] <= 0.5\\nsquared_error = 0.184\\nsamples = 66\\nvalue = 0.242'),\n",
       " Text(0.1083617747440273, 0.46875, 'squared_error = 0.0\\nsamples = 1\\nvalue = 1.0'),\n",
       " Text(0.1220136518771331, 0.46875, 'X[2] <= 15.5\\nsquared_error = 0.178\\nsamples = 65\\nvalue = 0.231'),\n",
       " Text(0.09556313993174062, 0.40625, 'X[10] <= 1.0\\nsquared_error = 0.094\\nsamples = 19\\nvalue = 0.105'),\n",
       " Text(0.08873720136518772, 0.34375, 'X[25] <= 2.5\\nsquared_error = 0.222\\nsamples = 6\\nvalue = 0.333'),\n",
       " Text(0.08191126279863481, 0.28125, 'squared_error = 0.0\\nsamples = 4\\nvalue = 0.0'),\n",
       " Text(0.09556313993174062, 0.28125, 'squared_error = 0.0\\nsamples = 2\\nvalue = 1.0'),\n",
       " Text(0.10238907849829351, 0.34375, 'squared_error = 0.0\\nsamples = 13\\nvalue = 0.0'),\n",
       " Text(0.14846416382252559, 0.40625, 'X[7] <= 3.5\\nsquared_error = 0.203\\nsamples = 46\\nvalue = 0.283'),\n",
       " Text(0.11604095563139932, 0.34375, 'X[23] <= 2.5\\nsquared_error = 0.173\\nsamples = 36\\nvalue = 0.222'),\n",
       " Text(0.10921501706484642, 0.28125, 'squared_error = 0.0\\nsamples = 1\\nvalue = 1.0'),\n",
       " Text(0.12286689419795221, 0.28125, 'X[22] <= 0.5\\nsquared_error = 0.16\\nsamples = 35\\nvalue = 0.2'),\n",
       " Text(0.10580204778156997, 0.21875, 'X[3] <= 0.5\\nsquared_error = 0.086\\nsamples = 21\\nvalue = 0.095'),\n",
       " Text(0.09897610921501707, 0.15625, 'X[26] <= 4.0\\nsquared_error = 0.222\\nsamples = 6\\nvalue = 0.333'),\n",
       " Text(0.09215017064846416, 0.09375, 'squared_error = 0.0\\nsamples = 4\\nvalue = 0.0'),\n",
       " Text(0.10580204778156997, 0.09375, 'squared_error = 0.0\\nsamples = 2\\nvalue = 1.0'),\n",
       " Text(0.11262798634812286, 0.15625, 'squared_error = 0.0\\nsamples = 15\\nvalue = 0.0'),\n",
       " Text(0.13993174061433447, 0.21875, 'X[26] <= 4.5\\nsquared_error = 0.23\\nsamples = 14\\nvalue = 0.357'),\n",
       " Text(0.13310580204778158, 0.15625, 'X[27] <= 1.0\\nsquared_error = 0.247\\nsamples = 9\\nvalue = 0.556'),\n",
       " Text(0.11945392491467577, 0.09375, 'X[11] <= 0.5\\nsquared_error = 0.188\\nsamples = 4\\nvalue = 0.25'),\n",
       " Text(0.11262798634812286, 0.03125, 'squared_error = 0.0\\nsamples = 3\\nvalue = 0.0'),\n",
       " Text(0.12627986348122866, 0.03125, 'squared_error = 0.0\\nsamples = 1\\nvalue = 1.0'),\n",
       " Text(0.14675767918088736, 0.09375, 'X[11] <= 0.5\\nsquared_error = 0.16\\nsamples = 5\\nvalue = 0.8'),\n",
       " Text(0.13993174061433447, 0.03125, 'squared_error = 0.0\\nsamples = 4\\nvalue = 1.0'),\n",
       " Text(0.15358361774744028, 0.03125, 'squared_error = 0.0\\nsamples = 1\\nvalue = 0.0'),\n",
       " Text(0.14675767918088736, 0.15625, 'squared_error = 0.0\\nsamples = 5\\nvalue = 0.0'),\n",
       " Text(0.18088737201365188, 0.34375, 'X[22] <= 0.5\\nsquared_error = 0.25\\nsamples = 10\\nvalue = 0.5'),\n",
       " Text(0.17406143344709898, 0.28125, 'X[25] <= 2.5\\nsquared_error = 0.204\\nsamples = 7\\nvalue = 0.714'),\n",
       " Text(0.16723549488054607, 0.21875, 'X[11] <= 0.5\\nsquared_error = 0.222\\nsamples = 3\\nvalue = 0.333'),\n",
       " Text(0.16040955631399317, 0.15625, 'squared_error = 0.0\\nsamples = 2\\nvalue = 0.0'),\n",
       " Text(0.17406143344709898, 0.15625, 'squared_error = 0.0\\nsamples = 1\\nvalue = 1.0'),\n",
       " Text(0.18088737201365188, 0.21875, 'squared_error = 0.0\\nsamples = 4\\nvalue = 1.0'),\n",
       " Text(0.18771331058020477, 0.28125, 'squared_error = 0.0\\nsamples = 3\\nvalue = 0.0'),\n",
       " Text(0.14249146757679182, 0.53125, 'X[10] <= 2.5\\nsquared_error = 0.188\\nsamples = 4\\nvalue = 0.75'),\n",
       " Text(0.1356655290102389, 0.46875, 'squared_error = 0.0\\nsamples = 3\\nvalue = 1.0'),\n",
       " Text(0.1493174061433447, 0.46875, 'squared_error = 0.0\\nsamples = 1\\nvalue = 0.0'),\n",
       " Text(0.20136518771331058, 0.59375, 'X[27] <= 7.0\\nsquared_error = 0.075\\nsamples = 37\\nvalue = 0.081'),\n",
       " Text(0.1945392491467577, 0.53125, 'X[7] <= 1.5\\nsquared_error = 0.052\\nsamples = 36\\nvalue = 0.056'),\n",
       " Text(0.18088737201365188, 0.46875, 'X[2] <= 15.5\\nsquared_error = 0.25\\nsamples = 2\\nvalue = 0.5'),\n",
       " Text(0.17406143344709898, 0.40625, 'squared_error = 0.0\\nsamples = 1\\nvalue = 0.0'),\n",
       " Text(0.18771331058020477, 0.40625, 'squared_error = 0.0\\nsamples = 1\\nvalue = 1.0'),\n",
       " Text(0.20819112627986347, 0.46875, 'X[8] <= 1.5\\nsquared_error = 0.029\\nsamples = 34\\nvalue = 0.029'),\n",
       " Text(0.20136518771331058, 0.40625, 'X[10] <= 1.0\\nsquared_error = 0.139\\nsamples = 6\\nvalue = 0.167'),\n",
       " Text(0.1945392491467577, 0.34375, 'squared_error = 0.0\\nsamples = 1\\nvalue = 1.0'),\n",
       " Text(0.20819112627986347, 0.34375, 'squared_error = 0.0\\nsamples = 5\\nvalue = 0.0'),\n",
       " Text(0.2150170648464164, 0.40625, 'squared_error = 0.0\\nsamples = 28\\nvalue = 0.0'),\n",
       " Text(0.20819112627986347, 0.53125, 'squared_error = 0.0\\nsamples = 1\\nvalue = 1.0'),\n",
       " Text(0.10814846416382252, 0.78125, 'squared_error = 0.0\\nsamples = 6\\nvalue = 1.0'),\n",
       " Text(0.32807167235494883, 0.84375, 'X[13] <= 1.5\\nsquared_error = 0.233\\nsamples = 108\\nvalue = 0.63'),\n",
       " Text(0.2696245733788396, 0.78125, 'X[6] <= 3.5\\nsquared_error = 0.18\\nsamples = 51\\nvalue = 0.765'),\n",
       " Text(0.25597269624573377, 0.71875, 'X[27] <= 20.0\\nsquared_error = 0.13\\nsamples = 39\\nvalue = 0.846'),\n",
       " Text(0.24914675767918087, 0.65625, 'X[2] <= 18.5\\nsquared_error = 0.114\\nsamples = 38\\nvalue = 0.868'),\n",
       " Text(0.2354948805460751, 0.59375, 'X[27] <= 1.0\\nsquared_error = 0.083\\nsamples = 33\\nvalue = 0.909'),\n",
       " Text(0.22866894197952217, 0.53125, 'X[16] <= 0.5\\nsquared_error = 0.222\\nsamples = 9\\nvalue = 0.667'),\n",
       " Text(0.22184300341296928, 0.46875, 'squared_error = 0.0\\nsamples = 6\\nvalue = 1.0'),\n",
       " Text(0.2354948805460751, 0.46875, 'squared_error = 0.0\\nsamples = 3\\nvalue = 0.0'),\n",
       " Text(0.24232081911262798, 0.53125, 'squared_error = 0.0\\nsamples = 24\\nvalue = 1.0'),\n",
       " Text(0.2627986348122867, 0.59375, 'X[19] <= 0.5\\nsquared_error = 0.24\\nsamples = 5\\nvalue = 0.6'),\n",
       " Text(0.25597269624573377, 0.53125, 'squared_error = 0.0\\nsamples = 2\\nvalue = 1.0'),\n",
       " Text(0.2696245733788396, 0.53125, 'X[14] <= 0.5\\nsquared_error = 0.222\\nsamples = 3\\nvalue = 0.333'),\n",
       " Text(0.2627986348122867, 0.46875, 'squared_error = 0.0\\nsamples = 2\\nvalue = 0.0'),\n",
       " Text(0.2764505119453925, 0.46875, 'squared_error = 0.0\\nsamples = 1\\nvalue = 1.0'),\n",
       " Text(0.2627986348122867, 0.65625, 'squared_error = 0.0\\nsamples = 1\\nvalue = 0.0'),\n",
       " Text(0.2832764505119454, 0.71875, 'X[18] <= 0.5\\nsquared_error = 0.25\\nsamples = 12\\nvalue = 0.5'),\n",
       " Text(0.2764505119453925, 0.65625, 'squared_error = 0.0\\nsamples = 3\\nvalue = 1.0'),\n",
       " Text(0.2901023890784983, 0.65625, 'X[24] <= 4.5\\nsquared_error = 0.222\\nsamples = 9\\nvalue = 0.333'),\n",
       " Text(0.2832764505119454, 0.59375, 'squared_error = 0.0\\nsamples = 5\\nvalue = 0.0'),\n",
       " Text(0.29692832764505117, 0.59375, 'X[8] <= 1.0\\nsquared_error = 0.188\\nsamples = 4\\nvalue = 0.75'),\n",
       " Text(0.2901023890784983, 0.53125, 'squared_error = 0.0\\nsamples = 1\\nvalue = 0.0'),\n",
       " Text(0.3037542662116041, 0.53125, 'squared_error = 0.0\\nsamples = 3\\nvalue = 1.0'),\n",
       " Text(0.386518771331058, 0.78125, 'X[15] <= 0.5\\nsquared_error = 0.25\\nsamples = 57\\nvalue = 0.509'),\n",
       " Text(0.3796928327645051, 0.71875, 'X[18] <= 0.5\\nsquared_error = 0.249\\nsamples = 54\\nvalue = 0.537'),\n",
       " Text(0.3378839590443686, 0.65625, 'X[2] <= 16.5\\nsquared_error = 0.196\\nsamples = 15\\nvalue = 0.733'),\n",
       " Text(0.3242320819112628, 0.59375, 'X[11] <= 0.5\\nsquared_error = 0.24\\nsamples = 5\\nvalue = 0.4'),\n",
       " Text(0.3174061433447099, 0.53125, 'squared_error = 0.0\\nsamples = 3\\nvalue = 0.0'),\n",
       " Text(0.3310580204778157, 0.53125, 'squared_error = 0.0\\nsamples = 2\\nvalue = 1.0'),\n",
       " Text(0.3515358361774744, 0.59375, 'X[5] <= 0.5\\nsquared_error = 0.09\\nsamples = 10\\nvalue = 0.9'),\n",
       " Text(0.3447098976109215, 0.53125, 'squared_error = 0.0\\nsamples = 1\\nvalue = 0.0'),\n",
       " Text(0.3583617747440273, 0.53125, 'squared_error = 0.0\\nsamples = 9\\nvalue = 1.0'),\n",
       " Text(0.42150170648464164, 0.65625, 'X[11] <= 0.5\\nsquared_error = 0.249\\nsamples = 39\\nvalue = 0.462'),\n",
       " Text(0.39590443686006827, 0.59375, 'X[26] <= 3.5\\nsquared_error = 0.247\\nsamples = 27\\nvalue = 0.556'),\n",
       " Text(0.3720136518771331, 0.53125, 'X[6] <= 1.5\\nsquared_error = 0.188\\nsamples = 8\\nvalue = 0.25'),\n",
       " Text(0.3651877133105802, 0.46875, 'squared_error = 0.0\\nsamples = 1\\nvalue = 1.0'),\n",
       " Text(0.378839590443686, 0.46875, 'X[8] <= 3.0\\nsquared_error = 0.122\\nsamples = 7\\nvalue = 0.143'),\n",
       " Text(0.3720136518771331, 0.40625, 'squared_error = 0.0\\nsamples = 6\\nvalue = 0.0'),\n",
       " Text(0.3856655290102389, 0.40625, 'squared_error = 0.0\\nsamples = 1\\nvalue = 1.0'),\n",
       " Text(0.4197952218430034, 0.53125, 'X[24] <= 3.5\\nsquared_error = 0.216\\nsamples = 19\\nvalue = 0.684'),\n",
       " Text(0.4061433447098976, 0.46875, 'X[6] <= 2.5\\nsquared_error = 0.188\\nsamples = 4\\nvalue = 0.25'),\n",
       " Text(0.3993174061433447, 0.40625, 'squared_error = 0.0\\nsamples = 3\\nvalue = 0.0'),\n",
       " Text(0.4129692832764505, 0.40625, 'squared_error = 0.0\\nsamples = 1\\nvalue = 1.0'),\n",
       " Text(0.4334470989761092, 0.46875, 'X[23] <= 3.0\\nsquared_error = 0.16\\nsamples = 15\\nvalue = 0.8'),\n",
       " Text(0.42662116040955633, 0.40625, 'squared_error = 0.0\\nsamples = 1\\nvalue = 0.0'),\n",
       " Text(0.4402730375426621, 0.40625, 'X[27] <= 10.5\\nsquared_error = 0.122\\nsamples = 14\\nvalue = 0.857'),\n",
       " Text(0.4334470989761092, 0.34375, 'X[6] <= 3.5\\nsquared_error = 0.071\\nsamples = 13\\nvalue = 0.923'),\n",
       " Text(0.42662116040955633, 0.28125, 'squared_error = 0.0\\nsamples = 9\\nvalue = 1.0'),\n",
       " Text(0.4402730375426621, 0.28125, 'X[10] <= 2.5\\nsquared_error = 0.188\\nsamples = 4\\nvalue = 0.75'),\n",
       " Text(0.4334470989761092, 0.21875, 'squared_error = 0.0\\nsamples = 3\\nvalue = 1.0'),\n",
       " Text(0.447098976109215, 0.21875, 'squared_error = 0.0\\nsamples = 1\\nvalue = 0.0'),\n",
       " Text(0.447098976109215, 0.34375, 'squared_error = 0.0\\nsamples = 1\\nvalue = 0.0'),\n",
       " Text(0.447098976109215, 0.59375, 'X[26] <= 1.5\\nsquared_error = 0.188\\nsamples = 12\\nvalue = 0.25'),\n",
       " Text(0.4402730375426621, 0.53125, 'squared_error = 0.0\\nsamples = 2\\nvalue = 1.0'),\n",
       " Text(0.4539249146757679, 0.53125, 'X[8] <= 0.5\\nsquared_error = 0.09\\nsamples = 10\\nvalue = 0.1'),\n",
       " Text(0.447098976109215, 0.46875, 'squared_error = 0.0\\nsamples = 1\\nvalue = 1.0'),\n",
       " Text(0.46075085324232085, 0.46875, 'squared_error = 0.0\\nsamples = 9\\nvalue = 0.0'),\n",
       " Text(0.39334470989761094, 0.71875, 'squared_error = 0.0\\nsamples = 3\\nvalue = 0.0'),\n",
       " Text(0.8068206058020477, 0.90625, 'X[27] <= 22.5\\nsquared_error = 0.162\\nsamples = 383\\nvalue = 0.204'),\n",
       " Text(0.7999946672354948, 0.84375, 'X[11] <= 0.5\\nsquared_error = 0.158\\nsamples = 380\\nvalue = 0.197'),\n",
       " Text(0.6921395051194539, 0.78125, 'X[24] <= 3.5\\nsquared_error = 0.129\\nsamples = 270\\nvalue = 0.152'),\n",
       " Text(0.5924701365187713, 0.71875, 'X[23] <= 4.5\\nsquared_error = 0.102\\nsamples = 190\\nvalue = 0.116'),\n",
       " Text(0.5565273037542662, 0.65625, 'X[2] <= 19.5\\nsquared_error = 0.127\\nsamples = 141\\nvalue = 0.149'),\n",
       " Text(0.5497013651877133, 0.59375, 'X[9] <= 3.5\\nsquared_error = 0.122\\nsamples = 140\\nvalue = 0.143'),\n",
       " Text(0.49829351535836175, 0.53125, 'X[12] <= 2.5\\nsquared_error = 0.065\\nsamples = 57\\nvalue = 0.07'),\n",
       " Text(0.4812286689419795, 0.46875, 'X[15] <= 0.5\\nsquared_error = 0.052\\nsamples = 55\\nvalue = 0.055'),\n",
       " Text(0.46757679180887374, 0.40625, 'X[3] <= 0.5\\nsquared_error = 0.022\\nsamples = 45\\nvalue = 0.022'),\n",
       " Text(0.46075085324232085, 0.34375, 'X[13] <= 2.5\\nsquared_error = 0.099\\nsamples = 9\\nvalue = 0.111'),\n",
       " Text(0.4539249146757679, 0.28125, 'squared_error = 0.0\\nsamples = 7\\nvalue = 0.0'),\n",
       " Text(0.46757679180887374, 0.28125, 'X[24] <= 2.5\\nsquared_error = 0.25\\nsamples = 2\\nvalue = 0.5'),\n",
       " Text(0.46075085324232085, 0.21875, 'squared_error = 0.0\\nsamples = 1\\nvalue = 0.0'),\n",
       " Text(0.47440273037542663, 0.21875, 'squared_error = 0.0\\nsamples = 1\\nvalue = 1.0'),\n",
       " Text(0.47440273037542663, 0.34375, 'squared_error = 0.0\\nsamples = 36\\nvalue = 0.0'),\n",
       " Text(0.4948805460750853, 0.40625, 'X[26] <= 4.5\\nsquared_error = 0.16\\nsamples = 10\\nvalue = 0.2'),\n",
       " Text(0.4880546075085324, 0.34375, 'squared_error = 0.0\\nsamples = 6\\nvalue = 0.0'),\n",
       " Text(0.5017064846416383, 0.34375, 'X[3] <= 0.5\\nsquared_error = 0.25\\nsamples = 4\\nvalue = 0.5'),\n",
       " Text(0.4948805460750853, 0.28125, 'squared_error = 0.0\\nsamples = 2\\nvalue = 0.0'),\n",
       " Text(0.5085324232081911, 0.28125, 'squared_error = 0.0\\nsamples = 2\\nvalue = 1.0'),\n",
       " Text(0.515358361774744, 0.46875, 'X[23] <= 3.0\\nsquared_error = 0.25\\nsamples = 2\\nvalue = 0.5'),\n",
       " Text(0.5085324232081911, 0.40625, 'squared_error = 0.0\\nsamples = 1\\nvalue = 0.0'),\n",
       " Text(0.5221843003412969, 0.40625, 'squared_error = 0.0\\nsamples = 1\\nvalue = 1.0'),\n",
       " Text(0.6011092150170648, 0.53125, 'X[21] <= 0.5\\nsquared_error = 0.156\\nsamples = 83\\nvalue = 0.193'),\n",
       " Text(0.5426621160409556, 0.46875, 'X[22] <= 0.5\\nsquared_error = 0.071\\nsamples = 26\\nvalue = 0.077'),\n",
       " Text(0.5358361774744027, 0.40625, 'squared_error = 0.0\\nsamples = 13\\nvalue = 0.0'),\n",
       " Text(0.5494880546075085, 0.40625, 'X[10] <= 1.0\\nsquared_error = 0.13\\nsamples = 13\\nvalue = 0.154'),\n",
       " Text(0.5426621160409556, 0.34375, 'squared_error = 0.0\\nsamples = 1\\nvalue = 1.0'),\n",
       " Text(0.5563139931740614, 0.34375, 'X[8] <= 3.0\\nsquared_error = 0.076\\nsamples = 12\\nvalue = 0.083'),\n",
       " Text(0.5494880546075085, 0.28125, 'squared_error = 0.0\\nsamples = 9\\nvalue = 0.0'),\n",
       " Text(0.5631399317406144, 0.28125, 'X[19] <= 0.5\\nsquared_error = 0.222\\nsamples = 3\\nvalue = 0.333'),\n",
       " Text(0.5563139931740614, 0.21875, 'squared_error = 0.0\\nsamples = 1\\nvalue = 1.0'),\n",
       " Text(0.5699658703071673, 0.21875, 'squared_error = 0.0\\nsamples = 2\\nvalue = 0.0'),\n",
       " Text(0.659556313993174, 0.46875, 'X[24] <= 1.5\\nsquared_error = 0.185\\nsamples = 57\\nvalue = 0.246'),\n",
       " Text(0.6527303754266212, 0.40625, 'squared_error = 0.0\\nsamples = 8\\nvalue = 0.0'),\n",
       " Text(0.6663822525597269, 0.40625, 'X[13] <= 2.5\\nsquared_error = 0.204\\nsamples = 49\\nvalue = 0.286'),\n",
       " Text(0.6399317406143344, 0.34375, 'X[18] <= 0.5\\nsquared_error = 0.225\\nsamples = 38\\nvalue = 0.342'),\n",
       " Text(0.6075085324232082, 0.28125, 'X[15] <= 0.5\\nsquared_error = 0.182\\nsamples = 25\\nvalue = 0.24'),\n",
       " Text(0.5836177474402731, 0.21875, 'X[10] <= 1.0\\nsquared_error = 0.128\\nsamples = 20\\nvalue = 0.15'),\n",
       " Text(0.5699658703071673, 0.15625, 'X[25] <= 3.5\\nsquared_error = 0.25\\nsamples = 4\\nvalue = 0.5'),\n",
       " Text(0.5631399317406144, 0.09375, 'squared_error = 0.0\\nsamples = 2\\nvalue = 1.0'),\n",
       " Text(0.5767918088737202, 0.09375, 'squared_error = 0.0\\nsamples = 2\\nvalue = 0.0'),\n",
       " Text(0.5972696245733788, 0.15625, 'X[23] <= 2.5\\nsquared_error = 0.059\\nsamples = 16\\nvalue = 0.062'),\n",
       " Text(0.590443686006826, 0.09375, 'X[7] <= 1.5\\nsquared_error = 0.222\\nsamples = 3\\nvalue = 0.333'),\n",
       " Text(0.5836177474402731, 0.03125, 'squared_error = 0.0\\nsamples = 1\\nvalue = 1.0'),\n",
       " Text(0.5972696245733788, 0.03125, 'squared_error = 0.0\\nsamples = 2\\nvalue = 0.0'),\n",
       " Text(0.6040955631399317, 0.09375, 'squared_error = 0.0\\nsamples = 13\\nvalue = 0.0'),\n",
       " Text(0.6313993174061433, 0.21875, 'X[26] <= 4.5\\nsquared_error = 0.24\\nsamples = 5\\nvalue = 0.6'),\n",
       " Text(0.6245733788395904, 0.15625, 'X[6] <= 1.5\\nsquared_error = 0.222\\nsamples = 3\\nvalue = 0.333'),\n",
       " Text(0.6177474402730375, 0.09375, 'squared_error = 0.0\\nsamples = 1\\nvalue = 1.0'),\n",
       " Text(0.6313993174061433, 0.09375, 'squared_error = 0.0\\nsamples = 2\\nvalue = 0.0'),\n",
       " Text(0.6382252559726962, 0.15625, 'squared_error = 0.0\\nsamples = 2\\nvalue = 1.0'),\n",
       " Text(0.6723549488054608, 0.28125, 'X[25] <= 3.5\\nsquared_error = 0.249\\nsamples = 13\\nvalue = 0.538'),\n",
       " Text(0.658703071672355, 0.21875, 'X[0] <= 0.5\\nsquared_error = 0.139\\nsamples = 6\\nvalue = 0.167'),\n",
       " Text(0.6518771331058021, 0.15625, 'squared_error = 0.0\\nsamples = 1\\nvalue = 1.0'),\n",
       " Text(0.6655290102389079, 0.15625, 'squared_error = 0.0\\nsamples = 5\\nvalue = 0.0'),\n",
       " Text(0.6860068259385665, 0.21875, 'X[2] <= 16.5\\nsquared_error = 0.122\\nsamples = 7\\nvalue = 0.857'),\n",
       " Text(0.6791808873720137, 0.15625, 'X[4] <= 0.5\\nsquared_error = 0.25\\nsamples = 2\\nvalue = 0.5'),\n",
       " Text(0.6723549488054608, 0.09375, 'squared_error = 0.0\\nsamples = 1\\nvalue = 0.0'),\n",
       " Text(0.6860068259385665, 0.09375, 'squared_error = 0.0\\nsamples = 1\\nvalue = 1.0'),\n",
       " Text(0.6928327645051194, 0.15625, 'squared_error = 0.0\\nsamples = 5\\nvalue = 1.0'),\n",
       " Text(0.6928327645051194, 0.34375, 'X[27] <= 7.5\\nsquared_error = 0.083\\nsamples = 11\\nvalue = 0.091'),\n",
       " Text(0.6860068259385665, 0.28125, 'squared_error = 0.0\\nsamples = 10\\nvalue = 0.0'),\n",
       " Text(0.6996587030716723, 0.28125, 'squared_error = 0.0\\nsamples = 1\\nvalue = 1.0'),\n",
       " Text(0.5633532423208191, 0.59375, 'squared_error = 0.0\\nsamples = 1\\nvalue = 1.0'),\n",
       " Text(0.6284129692832765, 0.65625, 'X[2] <= 15.5\\nsquared_error = 0.02\\nsamples = 49\\nvalue = 0.02'),\n",
       " Text(0.6215870307167235, 0.59375, 'X[25] <= 3.5\\nsquared_error = 0.109\\nsamples = 8\\nvalue = 0.125'),\n",
       " Text(0.6147610921501706, 0.53125, 'squared_error = 0.0\\nsamples = 7\\nvalue = 0.0'),\n",
       " Text(0.6284129692832765, 0.53125, 'squared_error = 0.0\\nsamples = 1\\nvalue = 1.0'),\n",
       " Text(0.6352389078498294, 0.59375, 'squared_error = 0.0\\nsamples = 41\\nvalue = 0.0'),\n",
       " Text(0.7918088737201365, 0.71875, 'X[25] <= 4.5\\nsquared_error = 0.181\\nsamples = 80\\nvalue = 0.238'),\n",
       " Text(0.7747440273037542, 0.65625, 'X[8] <= 3.5\\nsquared_error = 0.212\\nsamples = 59\\nvalue = 0.305'),\n",
       " Text(0.7610921501706485, 0.59375, 'X[15] <= 0.5\\nsquared_error = 0.239\\nsamples = 38\\nvalue = 0.395'),\n",
       " Text(0.7542662116040956, 0.53125, 'X[3] <= 0.5\\nsquared_error = 0.225\\nsamples = 35\\nvalue = 0.343'),\n",
       " Text(0.7406143344709898, 0.46875, 'X[13] <= 2.5\\nsquared_error = 0.249\\nsamples = 17\\nvalue = 0.529'),\n",
       " Text(0.7337883959044369, 0.40625, 'X[2] <= 17.5\\nsquared_error = 0.23\\nsamples = 14\\nvalue = 0.643'),\n",
       " Text(0.726962457337884, 0.34375, 'X[2] <= 16.5\\nsquared_error = 0.248\\nsamples = 11\\nvalue = 0.545'),\n",
       " Text(0.7133105802047781, 0.28125, 'X[24] <= 4.5\\nsquared_error = 0.204\\nsamples = 7\\nvalue = 0.714'),\n",
       " Text(0.7064846416382252, 0.21875, 'squared_error = 0.0\\nsamples = 4\\nvalue = 1.0'),\n",
       " Text(0.7201365187713311, 0.21875, 'X[6] <= 3.5\\nsquared_error = 0.222\\nsamples = 3\\nvalue = 0.333'),\n",
       " Text(0.7133105802047781, 0.15625, 'squared_error = 0.0\\nsamples = 2\\nvalue = 0.0'),\n",
       " Text(0.726962457337884, 0.15625, 'squared_error = 0.0\\nsamples = 1\\nvalue = 1.0'),\n",
       " Text(0.7406143344709898, 0.28125, 'X[27] <= 6.0\\nsquared_error = 0.188\\nsamples = 4\\nvalue = 0.25'),\n",
       " Text(0.7337883959044369, 0.21875, 'squared_error = 0.0\\nsamples = 3\\nvalue = 0.0'),\n",
       " Text(0.7474402730375427, 0.21875, 'squared_error = 0.0\\nsamples = 1\\nvalue = 1.0'),\n",
       " Text(0.7406143344709898, 0.34375, 'squared_error = 0.0\\nsamples = 3\\nvalue = 1.0'),\n",
       " Text(0.7474402730375427, 0.40625, 'squared_error = 0.0\\nsamples = 3\\nvalue = 0.0'),\n",
       " Text(0.7679180887372014, 0.46875, 'X[9] <= 0.5\\nsquared_error = 0.139\\nsamples = 18\\nvalue = 0.167'),\n",
       " Text(0.7610921501706485, 0.40625, 'squared_error = 0.0\\nsamples = 1\\nvalue = 1.0'),\n",
       " Text(0.7747440273037542, 0.40625, 'X[17] <= 0.5\\nsquared_error = 0.104\\nsamples = 17\\nvalue = 0.118'),\n",
       " Text(0.7679180887372014, 0.34375, 'X[2] <= 17.5\\nsquared_error = 0.059\\nsamples = 16\\nvalue = 0.062'),\n",
       " Text(0.7610921501706485, 0.28125, 'squared_error = 0.0\\nsamples = 12\\nvalue = 0.0'),\n",
       " Text(0.7747440273037542, 0.28125, 'X[7] <= 3.0\\nsquared_error = 0.188\\nsamples = 4\\nvalue = 0.25'),\n",
       " Text(0.7679180887372014, 0.21875, 'squared_error = 0.0\\nsamples = 3\\nvalue = 0.0'),\n",
       " Text(0.7815699658703071, 0.21875, 'squared_error = 0.0\\nsamples = 1\\nvalue = 1.0'),\n",
       " Text(0.7815699658703071, 0.34375, 'squared_error = 0.0\\nsamples = 1\\nvalue = 1.0'),\n",
       " Text(0.7679180887372014, 0.53125, 'squared_error = 0.0\\nsamples = 3\\nvalue = 1.0'),\n",
       " Text(0.78839590443686, 0.59375, 'X[2] <= 17.5\\nsquared_error = 0.122\\nsamples = 21\\nvalue = 0.143'),\n",
       " Text(0.7815699658703071, 0.53125, 'squared_error = 0.0\\nsamples = 13\\nvalue = 0.0'),\n",
       " Text(0.7952218430034129, 0.53125, 'X[27] <= 2.5\\nsquared_error = 0.234\\nsamples = 8\\nvalue = 0.375'),\n",
       " Text(0.78839590443686, 0.46875, 'squared_error = 0.0\\nsamples = 4\\nvalue = 0.0'),\n",
       " Text(0.8020477815699659, 0.46875, 'X[7] <= 3.0\\nsquared_error = 0.188\\nsamples = 4\\nvalue = 0.75'),\n",
       " Text(0.7952218430034129, 0.40625, 'squared_error = 0.0\\nsamples = 3\\nvalue = 1.0'),\n",
       " Text(0.8088737201365188, 0.40625, 'squared_error = 0.0\\nsamples = 1\\nvalue = 0.0'),\n",
       " Text(0.8088737201365188, 0.65625, 'X[27] <= 14.0\\nsquared_error = 0.045\\nsamples = 21\\nvalue = 0.048'),\n",
       " Text(0.8020477815699659, 0.59375, 'squared_error = 0.0\\nsamples = 20\\nvalue = 0.0'),\n",
       " Text(0.8156996587030717, 0.59375, 'squared_error = 0.0\\nsamples = 1\\nvalue = 1.0'),\n",
       " Text(0.9078498293515358, 0.78125, 'X[26] <= 4.5\\nsquared_error = 0.214\\nsamples = 110\\nvalue = 0.309'),\n",
       " Text(0.8703071672354948, 0.71875, 'X[7] <= 1.5\\nsquared_error = 0.176\\nsamples = 70\\nvalue = 0.229'),\n",
       " Text(0.8430034129692833, 0.65625, 'X[6] <= 2.5\\nsquared_error = 0.23\\nsamples = 25\\nvalue = 0.36'),\n",
       " Text(0.8361774744027304, 0.59375, 'X[13] <= 1.5\\nsquared_error = 0.198\\nsamples = 22\\nvalue = 0.273'),\n",
       " Text(0.8293515358361775, 0.53125, 'squared_error = 0.0\\nsamples = 2\\nvalue = 1.0'),\n",
       " Text(0.8430034129692833, 0.53125, 'X[12] <= 1.5\\nsquared_error = 0.16\\nsamples = 20\\nvalue = 0.2'),\n",
       " Text(0.8293515358361775, 0.46875, 'X[26] <= 2.5\\nsquared_error = 0.24\\nsamples = 5\\nvalue = 0.6'),\n",
       " Text(0.8225255972696246, 0.40625, 'squared_error = 0.0\\nsamples = 2\\nvalue = 1.0'),\n",
       " Text(0.8361774744027304, 0.40625, 'X[18] <= 0.5\\nsquared_error = 0.222\\nsamples = 3\\nvalue = 0.333'),\n",
       " Text(0.8293515358361775, 0.34375, 'squared_error = 0.0\\nsamples = 2\\nvalue = 0.0'),\n",
       " Text(0.8430034129692833, 0.34375, 'squared_error = 0.0\\nsamples = 1\\nvalue = 1.0'),\n",
       " Text(0.856655290102389, 0.46875, 'X[24] <= 1.5\\nsquared_error = 0.062\\nsamples = 15\\nvalue = 0.067'),\n",
       " Text(0.8498293515358362, 0.40625, 'squared_error = 0.0\\nsamples = 1\\nvalue = 1.0'),\n",
       " Text(0.863481228668942, 0.40625, 'squared_error = 0.0\\nsamples = 14\\nvalue = 0.0'),\n",
       " Text(0.8498293515358362, 0.59375, 'squared_error = 0.0\\nsamples = 3\\nvalue = 1.0'),\n",
       " Text(0.8976109215017065, 0.65625, 'X[8] <= 3.0\\nsquared_error = 0.131\\nsamples = 45\\nvalue = 0.156'),\n",
       " Text(0.8907849829351536, 0.59375, 'X[3] <= 0.5\\nsquared_error = 0.202\\nsamples = 25\\nvalue = 0.28'),\n",
       " Text(0.8771331058020477, 0.53125, 'X[9] <= 3.5\\nsquared_error = 0.188\\nsamples = 4\\nvalue = 0.75'),\n",
       " Text(0.8703071672354948, 0.46875, 'squared_error = 0.0\\nsamples = 3\\nvalue = 1.0'),\n",
       " Text(0.8839590443686007, 0.46875, 'squared_error = 0.0\\nsamples = 1\\nvalue = 0.0'),\n",
       " Text(0.9044368600682594, 0.53125, 'X[26] <= 2.5\\nsquared_error = 0.154\\nsamples = 21\\nvalue = 0.19'),\n",
       " Text(0.8976109215017065, 0.46875, 'X[6] <= 1.5\\nsquared_error = 0.247\\nsamples = 9\\nvalue = 0.444'),\n",
       " Text(0.8907849829351536, 0.40625, 'squared_error = 0.0\\nsamples = 2\\nvalue = 1.0'),\n",
       " Text(0.9044368600682594, 0.40625, 'X[6] <= 3.5\\nsquared_error = 0.204\\nsamples = 7\\nvalue = 0.286'),\n",
       " Text(0.8976109215017065, 0.34375, 'squared_error = 0.0\\nsamples = 4\\nvalue = 0.0'),\n",
       " Text(0.9112627986348123, 0.34375, 'X[25] <= 3.0\\nsquared_error = 0.222\\nsamples = 3\\nvalue = 0.667'),\n",
       " Text(0.9044368600682594, 0.28125, 'squared_error = 0.0\\nsamples = 1\\nvalue = 0.0'),\n",
       " Text(0.9180887372013652, 0.28125, 'squared_error = 0.0\\nsamples = 2\\nvalue = 1.0'),\n",
       " Text(0.9112627986348123, 0.46875, 'squared_error = 0.0\\nsamples = 12\\nvalue = 0.0'),\n",
       " Text(0.9044368600682594, 0.59375, 'squared_error = 0.0\\nsamples = 20\\nvalue = 0.0'),\n",
       " Text(0.9453924914675768, 0.71875, 'X[25] <= 2.5\\nsquared_error = 0.248\\nsamples = 40\\nvalue = 0.45'),\n",
       " Text(0.9249146757679181, 0.65625, 'X[3] <= 0.5\\nsquared_error = 0.168\\nsamples = 14\\nvalue = 0.214'),\n",
       " Text(0.9180887372013652, 0.59375, 'squared_error = 0.0\\nsamples = 2\\nvalue = 1.0'),\n",
       " Text(0.931740614334471, 0.59375, 'X[23] <= 4.5\\nsquared_error = 0.076\\nsamples = 12\\nvalue = 0.083'),\n",
       " Text(0.9249146757679181, 0.53125, 'squared_error = 0.0\\nsamples = 10\\nvalue = 0.0'),\n",
       " Text(0.9385665529010239, 0.53125, 'X[7] <= 3.0\\nsquared_error = 0.25\\nsamples = 2\\nvalue = 0.5'),\n",
       " Text(0.931740614334471, 0.46875, 'squared_error = 0.0\\nsamples = 1\\nvalue = 0.0'),\n",
       " Text(0.9453924914675768, 0.46875, 'squared_error = 0.0\\nsamples = 1\\nvalue = 1.0'),\n",
       " Text(0.9658703071672355, 0.65625, 'X[19] <= 0.5\\nsquared_error = 0.244\\nsamples = 26\\nvalue = 0.577'),\n",
       " Text(0.9590443686006825, 0.59375, 'squared_error = 0.0\\nsamples = 6\\nvalue = 1.0'),\n",
       " Text(0.9726962457337884, 0.59375, 'X[2] <= 18.5\\nsquared_error = 0.248\\nsamples = 20\\nvalue = 0.45'),\n",
       " Text(0.9658703071672355, 0.53125, 'X[2] <= 15.5\\nsquared_error = 0.215\\nsamples = 16\\nvalue = 0.312'),\n",
       " Text(0.9590443686006825, 0.46875, 'squared_error = 0.0\\nsamples = 2\\nvalue = 1.0'),\n",
       " Text(0.9726962457337884, 0.46875, 'X[18] <= 0.5\\nsquared_error = 0.168\\nsamples = 14\\nvalue = 0.214'),\n",
       " Text(0.9590443686006825, 0.40625, 'X[13] <= 3.5\\nsquared_error = 0.083\\nsamples = 11\\nvalue = 0.091'),\n",
       " Text(0.9522184300341296, 0.34375, 'squared_error = 0.0\\nsamples = 10\\nvalue = 0.0'),\n",
       " Text(0.9658703071672355, 0.34375, 'squared_error = 0.0\\nsamples = 1\\nvalue = 1.0'),\n",
       " Text(0.9863481228668942, 0.40625, 'X[8] <= 3.5\\nsquared_error = 0.222\\nsamples = 3\\nvalue = 0.667'),\n",
       " Text(0.9795221843003413, 0.34375, 'squared_error = 0.0\\nsamples = 1\\nvalue = 0.0'),\n",
       " Text(0.9931740614334471, 0.34375, 'squared_error = 0.0\\nsamples = 2\\nvalue = 1.0'),\n",
       " Text(0.9795221843003413, 0.53125, 'squared_error = 0.0\\nsamples = 4\\nvalue = 1.0'),\n",
       " Text(0.8136465443686007, 0.84375, 'squared_error = 0.0\\nsamples = 3\\nvalue = 1.0')]"
      ]
     },
     "execution_count": 73,
     "metadata": {},
     "output_type": "execute_result"
    },
    {
     "data": {
      "image/png": "[encoded data removed]",
      "text/plain": [
       "<Figure size 640x480 with 1 Axes>"
      ]
     },
     "metadata": {},
     "output_type": "display_data"
    }
   ],
   "source": [
    "tree.plot_tree(clf)"
   ]
  },
  {
   "cell_type": "code",
   "execution_count": 76,
   "metadata": {},
   "outputs": [],
   "source": [
    "pred = clf.predict(X_test) "
   ]
  },
  {
   "cell_type": "code",
   "execution_count": 78,
   "metadata": {},
   "outputs": [
    {
     "data": {
      "text/plain": [
       "1.0"
      ]
     },
     "execution_count": 78,
     "metadata": {},
     "output_type": "execute_result"
    }
   ],
   "source": [
    "from sklearn.metrics import accuracy_score\n",
    "accuracy_score(y_test, pred)"
   ]
  },
  {
   "cell_type": "code",
   "execution_count": 80,
   "metadata": {},
   "outputs": [
    {
     "name": "stdout",
     "output_type": "stream",
     "text": [
      "Criterion=gini 0.6512820512820513\n",
      "Criterion=entropy 0.6461538461538462\n"
     ]
    }
   ],
   "source": [
    "dtree = tree.DecisionTreeClassifier(criterion='gini')\n",
    "dtree.fit(X_train, y_train)\n",
    "pred = dtree.predict(X_test)\n",
    "print('Criterion=gini', accuracy_score(y_test, pred))\n",
    "dtree = tree.DecisionTreeClassifier(criterion='entropy')\n",
    "dtree.fit(X_train, y_train)\n",
    "pred = dtree.predict(X_test)\n",
    "print('Criterion=entropy', accuracy_score(y_test, pred))"
   ]
  },
  {
   "cell_type": "code",
   "execution_count": 87,
   "metadata": {},
   "outputs": [],
   "source": [
    "import matplotlib.pyplot as plt\n",
    "max_depth = []\n",
    "acc_gini = []\n",
    "acc_entropy = []\n",
    "for i in range(1,30):\n",
    "    dtree = tree.DecisionTreeClassifier(criterion='gini', max_depth=i)\n",
    "    dtree.fit(X_train, y_train)\n",
    "    pred = dtree.predict(X_test)\n",
    "    acc_gini.append(accuracy_score(y_test, pred))\n",
    "    ####\n",
    "    dtree = tree.DecisionTreeClassifier(criterion='entropy', max_depth=i)\n",
    "    dtree.fit(X_train, y_train)\n",
    "    pred = dtree.predict(X_test)\n",
    "    acc_entropy.append(accuracy_score(y_test, pred))\n",
    " ####\n",
    "    max_depth.append(i)\n",
    "d = pd.DataFrame({'acc_gini':pd.Series(acc_gini), \n",
    " 'acc_entropy':pd.Series(acc_entropy),\n",
    " 'max_depth':pd.Series(max_depth)})\n"
   ]
  },
  {
   "cell_type": "code",
   "execution_count": 89,
   "metadata": {},
   "outputs": [
    {
     "data": {
      "text/plain": [
       "<matplotlib.legend.Legend at 0x1f642218c40>"
      ]
     },
     "execution_count": 89,
     "metadata": {},
     "output_type": "execute_result"
    },
    {
     "data": {
      "image/png": "[encoded data removed]",
      "text/plain": [
       "<Figure size 640x480 with 1 Axes>"
      ]
     },
     "metadata": {},
     "output_type": "display_data"
    }
   ],
   "source": [
    "# visualizing changes in parameters\n",
    "plt.plot('max_depth','acc_gini', data=d, label='gini')\n",
    "plt.plot('max_depth','acc_entropy', data=d, label='entropy')\n",
    "plt.xlabel('max_depth')\n",
    "plt.ylabel('accuracy')\n",
    "plt.legend()"
   ]
  },
  {
   "cell_type": "code",
   "execution_count": 122,
   "metadata": {},
   "outputs": [
    {
     "name": "stdout",
     "output_type": "stream",
     "text": [
      "Criterion=entropy 0.7048458149779736\n"
     ]
    }
   ],
   "source": [
    "dtree = tree.DecisionTreeClassifier(criterion='entropy', max_depth=2)\n",
    "dtree.fit(X_train, y_train)\n",
    "pred = dtree.predict(X_train)\n",
    "print('Criterion=entropy', accuracy_score(y_train, pred))\n"
   ]
  },
  {
   "cell_type": "code",
   "execution_count": 123,
   "metadata": {},
   "outputs": [
    {
     "name": "stdout",
     "output_type": "stream",
     "text": [
      "Criterion=entropy 0.7384615384615385\n"
     ]
    }
   ],
   "source": [
    "pred = dtree.predict(X_test)\n",
    "print('Criterion=entropy', accuracy_score(y_test, pred))"
   ]
  },
  {
   "cell_type": "code",
   "execution_count": 124,
   "metadata": {},
   "outputs": [
    {
     "data": {
      "text/plain": [
       "[Text(0.5, 0.8333333333333334, 'X[1] <= 0.5\\nentropy = 0.913\\nsamples = 454\\nvalue = [305, 149]'),\n",
       " Text(0.25, 0.5, 'X[27] <= 11.5\\nentropy = 1.0\\nsamples = 184\\nvalue = [93, 91]'),\n",
       " Text(0.125, 0.16666666666666666, 'entropy = 0.993\\nsamples = 169\\nvalue = [93, 76]'),\n",
       " Text(0.375, 0.16666666666666666, 'entropy = 0.0\\nsamples = 15\\nvalue = [0, 15]'),\n",
       " Text(0.75, 0.5, 'X[11] <= 0.5\\nentropy = 0.751\\nsamples = 270\\nvalue = [212, 58]'),\n",
       " Text(0.625, 0.16666666666666666, 'entropy = 0.605\\nsamples = 189\\nvalue = [161, 28]'),\n",
       " Text(0.875, 0.16666666666666666, 'entropy = 0.951\\nsamples = 81\\nvalue = [51, 30]')]"
      ]
     },
     "execution_count": 124,
     "metadata": {},
     "output_type": "execute_result"
    },
    {
     "data": {
      "image/png": "[encoded data removed]",
      "text/plain": [
       "<Figure size 640x480 with 1 Axes>"
      ]
     },
     "metadata": {},
     "output_type": "display_data"
    }
   ],
   "source": [
    "tree.plot_tree(dtree)"
   ]
  },
  {
   "cell_type": "code",
   "execution_count": 125,
   "metadata": {},
   "outputs": [
    {
     "data": {
      "image/svg+xml": "<?xml version=\"1.0\" encoding=\"UTF-8\" standalone=\"no\"?>\n<!DOCTYPE svg PUBLIC \"-//W3C//DTD SVG 1.1//EN\"\n \"http://www.w3.org/Graphics/SVG/1.1/DTD/svg11.dtd\">\n<!-- Generated by graphviz version 2.50.0 (0)\n -->\n<!-- Title: Tree Pages: 1 -->\n<svg width=\"506pt\" height=\"269pt\"\n viewBox=\"0.00 0.00 506.00 269.00\" xmlns=\"http://www.w3.org/2000/svg\" xmlns:xlink=\"http://www.w3.org/1999/xlink\">\n<g id=\"graph0\" class=\"graph\" transform=\"scale(1 1) rotate(0) translate(4 265)\">\n<title>Tree</title>\n<polygon fill=\"white\" stroke=\"transparent\" points=\"-4,4 -4,-265 502,-265 502,4 -4,4\"/>\n<!-- 0 -->\n<g id=\"node1\" class=\"node\">\n<title>0</title>\n<path fill=\"#f2bf9a\" stroke=\"black\" d=\"M296,-261C296,-261 195,-261 195,-261 189,-261 183,-255 183,-249 183,-249 183,-205 183,-205 183,-199 189,-193 195,-193 195,-193 296,-193 296,-193 302,-193 308,-199 308,-205 308,-205 308,-249 308,-249 308,-255 302,-261 296,-261\"/>\n<text text-anchor=\"middle\" x=\"245.5\" y=\"-245.8\" font-family=\"Helvetica,sans-Serif\" font-size=\"14.00\">X[1] &lt;= 0.5</text>\n<text text-anchor=\"middle\" x=\"245.5\" y=\"-230.8\" font-family=\"Helvetica,sans-Serif\" font-size=\"14.00\">entropy = 0.913</text>\n<text text-anchor=\"middle\" x=\"245.5\" y=\"-215.8\" font-family=\"Helvetica,sans-Serif\" font-size=\"14.00\">samples = 454</text>\n<text text-anchor=\"middle\" x=\"245.5\" y=\"-200.8\" font-family=\"Helvetica,sans-Serif\" font-size=\"14.00\">value = [305, 149]</text>\n</g>\n<!-- 1 -->\n<g id=\"node2\" class=\"node\">\n<title>1</title>\n<path fill=\"#fefcfb\" stroke=\"black\" d=\"M222.5,-157C222.5,-157 136.5,-157 136.5,-157 130.5,-157 124.5,-151 124.5,-145 124.5,-145 124.5,-101 124.5,-101 124.5,-95 130.5,-89 136.5,-89 136.5,-89 222.5,-89 222.5,-89 228.5,-89 234.5,-95 234.5,-101 234.5,-101 234.5,-145 234.5,-145 234.5,-151 228.5,-157 222.5,-157\"/>\n<text text-anchor=\"middle\" x=\"179.5\" y=\"-141.8\" font-family=\"Helvetica,sans-Serif\" font-size=\"14.00\">X[27] &lt;= 11.5</text>\n<text text-anchor=\"middle\" x=\"179.5\" y=\"-126.8\" font-family=\"Helvetica,sans-Serif\" font-size=\"14.00\">entropy = 1.0</text>\n<text text-anchor=\"middle\" x=\"179.5\" y=\"-111.8\" font-family=\"Helvetica,sans-Serif\" font-size=\"14.00\">samples = 184</text>\n<text text-anchor=\"middle\" x=\"179.5\" y=\"-96.8\" font-family=\"Helvetica,sans-Serif\" font-size=\"14.00\">value = [93, 91]</text>\n</g>\n<!-- 0&#45;&gt;1 -->\n<g id=\"edge1\" class=\"edge\">\n<title>0&#45;&gt;1</title>\n<path fill=\"none\" stroke=\"black\" d=\"M224.07,-192.88C218.48,-184.24 212.38,-174.82 206.54,-165.79\"/>\n<polygon fill=\"black\" stroke=\"black\" points=\"209.42,-163.79 201.05,-157.3 203.54,-167.6 209.42,-163.79\"/>\n<text text-anchor=\"middle\" x=\"195.81\" y=\"-178.04\" font-family=\"Helvetica,sans-Serif\" font-size=\"14.00\">True</text>\n</g>\n<!-- 4 -->\n<g id=\"node5\" class=\"node\">\n<title>4</title>\n<path fill=\"#eca36f\" stroke=\"black\" d=\"M358,-157C358,-157 265,-157 265,-157 259,-157 253,-151 253,-145 253,-145 253,-101 253,-101 253,-95 259,-89 265,-89 265,-89 358,-89 358,-89 364,-89 370,-95 370,-101 370,-101 370,-145 370,-145 370,-151 364,-157 358,-157\"/>\n<text text-anchor=\"middle\" x=\"311.5\" y=\"-141.8\" font-family=\"Helvetica,sans-Serif\" font-size=\"14.00\">X[11] &lt;= 0.5</text>\n<text text-anchor=\"middle\" x=\"311.5\" y=\"-126.8\" font-family=\"Helvetica,sans-Serif\" font-size=\"14.00\">entropy = 0.751</text>\n<text text-anchor=\"middle\" x=\"311.5\" y=\"-111.8\" font-family=\"Helvetica,sans-Serif\" font-size=\"14.00\">samples = 270</text>\n<text text-anchor=\"middle\" x=\"311.5\" y=\"-96.8\" font-family=\"Helvetica,sans-Serif\" font-size=\"14.00\">value = [212, 58]</text>\n</g>\n<!-- 0&#45;&gt;4 -->\n<g id=\"edge4\" class=\"edge\">\n<title>0&#45;&gt;4</title>\n<path fill=\"none\" stroke=\"black\" d=\"M266.93,-192.88C272.52,-184.24 278.62,-174.82 284.46,-165.79\"/>\n<polygon fill=\"black\" stroke=\"black\" points=\"287.46,-167.6 289.95,-157.3 281.58,-163.79 287.46,-167.6\"/>\n<text text-anchor=\"middle\" x=\"295.19\" y=\"-178.04\" font-family=\"Helvetica,sans-Serif\" font-size=\"14.00\">False</text>\n</g>\n<!-- 2 -->\n<g id=\"node3\" class=\"node\">\n<title>2</title>\n<path fill=\"#fae8db\" stroke=\"black\" d=\"M99,-53C99,-53 12,-53 12,-53 6,-53 0,-47 0,-41 0,-41 0,-12 0,-12 0,-6 6,0 12,0 12,0 99,0 99,0 105,0 111,-6 111,-12 111,-12 111,-41 111,-41 111,-47 105,-53 99,-53\"/>\n<text text-anchor=\"middle\" x=\"55.5\" y=\"-37.8\" font-family=\"Helvetica,sans-Serif\" font-size=\"14.00\">entropy = 0.993</text>\n<text text-anchor=\"middle\" x=\"55.5\" y=\"-22.8\" font-family=\"Helvetica,sans-Serif\" font-size=\"14.00\">samples = 169</text>\n<text text-anchor=\"middle\" x=\"55.5\" y=\"-7.8\" font-family=\"Helvetica,sans-Serif\" font-size=\"14.00\">value = [93, 76]</text>\n</g>\n<!-- 1&#45;&gt;2 -->\n<g id=\"edge2\" class=\"edge\">\n<title>1&#45;&gt;2</title>\n<path fill=\"none\" stroke=\"black\" d=\"M136.13,-88.95C123.53,-79.34 109.79,-68.87 97.29,-59.34\"/>\n<polygon fill=\"black\" stroke=\"black\" points=\"99.35,-56.51 89.27,-53.24 95.1,-62.08 99.35,-56.51\"/>\n</g>\n<!-- 3 -->\n<g id=\"node4\" class=\"node\">\n<title>3</title>\n<path fill=\"#399de5\" stroke=\"black\" d=\"M219.5,-53C219.5,-53 141.5,-53 141.5,-53 135.5,-53 129.5,-47 129.5,-41 129.5,-41 129.5,-12 129.5,-12 129.5,-6 135.5,0 141.5,0 141.5,0 219.5,0 219.5,0 225.5,0 231.5,-6 231.5,-12 231.5,-12 231.5,-41 231.5,-41 231.5,-47 225.5,-53 219.5,-53\"/>\n<text text-anchor=\"middle\" x=\"180.5\" y=\"-37.8\" font-family=\"Helvetica,sans-Serif\" font-size=\"14.00\">entropy = 0.0</text>\n<text text-anchor=\"middle\" x=\"180.5\" y=\"-22.8\" font-family=\"Helvetica,sans-Serif\" font-size=\"14.00\">samples = 15</text>\n<text text-anchor=\"middle\" x=\"180.5\" y=\"-7.8\" font-family=\"Helvetica,sans-Serif\" font-size=\"14.00\">value = [0, 15]</text>\n</g>\n<!-- 1&#45;&gt;3 -->\n<g id=\"edge3\" class=\"edge\">\n<title>1&#45;&gt;3</title>\n<path fill=\"none\" stroke=\"black\" d=\"M179.85,-88.95C179.94,-80.72 180.03,-71.85 180.12,-63.48\"/>\n<polygon fill=\"black\" stroke=\"black\" points=\"183.62,-63.27 180.23,-53.24 176.62,-63.2 183.62,-63.27\"/>\n</g>\n<!-- 5 -->\n<g id=\"node6\" class=\"node\">\n<title>5</title>\n<path fill=\"#ea975b\" stroke=\"black\" d=\"M357,-53C357,-53 264,-53 264,-53 258,-53 252,-47 252,-41 252,-41 252,-12 252,-12 252,-6 258,0 264,0 264,0 357,0 357,0 363,0 369,-6 369,-12 369,-12 369,-41 369,-41 369,-47 363,-53 357,-53\"/>\n<text text-anchor=\"middle\" x=\"310.5\" y=\"-37.8\" font-family=\"Helvetica,sans-Serif\" font-size=\"14.00\">entropy = 0.605</text>\n<text text-anchor=\"middle\" x=\"310.5\" y=\"-22.8\" font-family=\"Helvetica,sans-Serif\" font-size=\"14.00\">samples = 189</text>\n<text text-anchor=\"middle\" x=\"310.5\" y=\"-7.8\" font-family=\"Helvetica,sans-Serif\" font-size=\"14.00\">value = [161, 28]</text>\n</g>\n<!-- 4&#45;&gt;5 -->\n<g id=\"edge5\" class=\"edge\">\n<title>4&#45;&gt;5</title>\n<path fill=\"none\" stroke=\"black\" d=\"M311.15,-88.95C311.06,-80.72 310.97,-71.85 310.88,-63.48\"/>\n<polygon fill=\"black\" stroke=\"black\" points=\"314.38,-63.2 310.77,-53.24 307.38,-63.27 314.38,-63.2\"/>\n</g>\n<!-- 6 -->\n<g id=\"node7\" class=\"node\">\n<title>6</title>\n<path fill=\"#f4cbad\" stroke=\"black\" d=\"M486,-53C486,-53 399,-53 399,-53 393,-53 387,-47 387,-41 387,-41 387,-12 387,-12 387,-6 393,0 399,0 399,0 486,0 486,0 492,0 498,-6 498,-12 498,-12 498,-41 498,-41 498,-47 492,-53 486,-53\"/>\n<text text-anchor=\"middle\" x=\"442.5\" y=\"-37.8\" font-family=\"Helvetica,sans-Serif\" font-size=\"14.00\">entropy = 0.951</text>\n<text text-anchor=\"middle\" x=\"442.5\" y=\"-22.8\" font-family=\"Helvetica,sans-Serif\" font-size=\"14.00\">samples = 81</text>\n<text text-anchor=\"middle\" x=\"442.5\" y=\"-7.8\" font-family=\"Helvetica,sans-Serif\" font-size=\"14.00\">value = [51, 30]</text>\n</g>\n<!-- 4&#45;&gt;6 -->\n<g id=\"edge6\" class=\"edge\">\n<title>4&#45;&gt;6</title>\n<path fill=\"none\" stroke=\"black\" d=\"M357.32,-88.95C370.63,-79.34 385.14,-68.87 398.36,-59.34\"/>\n<polygon fill=\"black\" stroke=\"black\" points=\"400.76,-61.93 406.82,-53.24 396.66,-56.25 400.76,-61.93\"/>\n</g>\n</g>\n</svg>\n",
      "text/plain": [
       "<graphviz.sources.Source at 0x1f6422efb80>"
      ]
     },
     "execution_count": 125,
     "metadata": {},
     "output_type": "execute_result"
    }
   ],
   "source": [
    "dot_data = tree.export_graphviz(dtree, out_file=None, filled=True, rounded=True) \n",
    "graph = graphviz.Source(dot_data) \n",
    "graph"
   ]
  },
  {
   "cell_type": "code",
   "execution_count": null,
   "metadata": {},
   "outputs": [],
   "source": []
  }
 ],
 "metadata": {
  "kernelspec": {
   "display_name": "Python 3.9.13 ('base')",
   "language": "python",
   "name": "python3"
  },
  "language_info": {
   "codemirror_mode": {
    "name": "ipython",
    "version": 3
   },
   "file_extension": ".py",
   "mimetype": "text/x-python",
   "name": "python",
   "nbconvert_exporter": "python",
   "pygments_lexer": "ipython3",
   "version": "3.9.13"
  },
  "orig_nbformat": 4,
  "vscode": {
   "interpreter": {
    "hash": "3c06e3e46abf38078fe4dac36a0085ec2b134ebbd73dd076183d243eeca6918f"
   }
  }
 },
 "nbformat": 4,
 "nbformat_minor": 2
}
